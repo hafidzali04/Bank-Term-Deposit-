{
  "nbformat": 4,
  "nbformat_minor": 0,
  "metadata": {
    "colab": {
      "name": "h8dsft_Milestone1_Hafidz.ipynb",
      "provenance": [],
      "collapsed_sections": [
        "dt9kHfXg-A2v",
        "2tIHq2zP-PoR",
        "hQAW_u22-mKA",
        "p6nE7JnQeiVS",
        "9RjWXpzvepEx",
        "0Ej-7DMr1GSx",
        "JOBKPqeOid1U",
        "AoX9rmqWjlbx",
        "SdU0_whX2D-V",
        "iBnueLjr3acT",
        "JbP92z9V5G6h",
        "DwWQF2U_6gfp",
        "DdHJxhya99QM",
        "7iaBuNQHBzgU",
        "HH0um0PlPuAl"
      ]
    },
    "kernelspec": {
      "name": "python3",
      "display_name": "Python 3"
    },
    "language_info": {
      "name": "python"
    }
  },
  "cells": [
    {
      "cell_type": "markdown",
      "source": [
        "#I. Perkenalan\n",
        "Nama: Hafidz Muta'ali\n",
        "\n",
        "Batch: FTDS 006\n",
        "\n",
        "Bank Term Deposit Classification:\n",
        "\n",
        "The classification goal is to predict if the client will subscribe a term deposit (variable y)\n",
        "\n",
        "Data Set Information:\n",
        "\n",
        "The data is related with direct marketing campaigns of a Portuguese banking institution. The marketing campaigns were based on phone calls. Often, more than one contact to the same client was required, in order to access if the product (bank term deposit) would be ('yes') or not ('no') subscribed.\n",
        "\n",
        "There are four datasets:\n",
        "\n",
        "1) bank-additional-full.csv with all examples (41188) and 20 inputs, ordered by date (from May 2008 to November 2010), very close to the data analyzed in [Moro et al., 2014]\n",
        "\n",
        "2) bank-additional.csv with 10% of the examples (4119), randomly selected from 1), and 20 inputs.\n",
        "\n",
        "3) bank-full.csv with all examples and 17 inputs, ordered by date (older version of this dataset with less inputs).\n",
        "\n",
        "4) bank.csv with 10% of the examples and 17 inputs, randomly selected from 3 (older version of this dataset with less inputs).\n",
        "The smallest datasets are provided to test more computationally demanding machine learning algorithms (e.g., SVM).\n",
        "\n",
        "The classification goal is to predict if the client will subscribe (yes/no) a term deposit (variable y).\n",
        "\n",
        "\n",
        "Attribute Information:\n",
        "\n",
        "Input variables:\n",
        "## bank client data:\n",
        "\n",
        "1 - age (numeric)\n",
        "\n",
        "2 - job : type of job (categorical: 'admin.','blue-collar','entrepreneur','housemaid','management','retired','self-employed','services','student','technician','unemployed','unknown')\n",
        "\n",
        "3 - marital : marital status (categorical: 'divorced','married','single','unknown'; note: 'divorced' means divorced or widowed)\n",
        "\n",
        "4 - education (categorical: 'basic.4y','basic.6y','basic.9y','high.school','illiterate','professional.course','university.degree','unknown')\n",
        "\n",
        "5 - default: has credit in default? (categorical: 'no','yes','unknown')\n",
        "\n",
        "6 - housing: has housing loan? (categorical: 'no','yes','unknown')\n",
        "\n",
        "7 - loan: has personal loan? (categorical: 'no','yes','unknown')\n",
        "## related with the last contact of the current campaign:\n",
        "\n",
        "8 - contact: contact communication type (categorical: 'cellular','telephone')\n",
        "\n",
        "9 - month: last contact month of year (categorical: 'jan', 'feb', 'mar', ..., \n",
        "'nov', 'dec')\n",
        "\n",
        "10 - day_of_week: last contact day of the week (categorical: 'mon','tue','wed','thu','fri')\n",
        "\n",
        "11 - duration: last contact duration, in seconds (numeric). Important note: this attribute highly affects the output target (e.g., if duration=0 then y='no'). Yet, the duration is not known before a call is performed. Also, after the end of the call y is obviously known. Thus, this input should only be included for benchmark purposes and should be discarded if the intention is to have a realistic predictive model.\n",
        "## other attributes:\n",
        "\n",
        "12 - campaign: number of contacts performed during this campaign and for this client (numeric, includes last contact)\n",
        "\n",
        "13 - pdays: number of days that passed by after the client was last contacted from a previous campaign (numeric; 999 means client was not previously contacted)\n",
        "\n",
        "14 - previous: number of contacts performed before this campaign and for this client (numeric)\n",
        "\n",
        "15 - poutcome: outcome of the previous marketing campaign (categorical: 'failure','nonexistent','success')\n",
        "## social and economic context attributes\n",
        "\n",
        "16 - emp.var.rate: employment variation rate - quarterly indicator (numeric)\n",
        "\n",
        "17 - cons.price.idx: consumer price index - monthly indicator (numeric)\n",
        "\n",
        "18 - cons.conf.idx: consumer confidence index - monthly indicator (numeric)\n",
        "\n",
        "19 - euribor3m: euribor 3 month rate - daily indicator (numeric)\n",
        "\n",
        "20 - nr.employed: number of employees - quarterly indicator (numeric)\n"
      ],
      "metadata": {
        "id": "NwqH3WRd9wZw"
      }
    },
    {
      "cell_type": "markdown",
      "source": [
        "#II. Import Libraries"
      ],
      "metadata": {
        "id": "dt9kHfXg-A2v"
      }
    },
    {
      "cell_type": "code",
      "execution_count": null,
      "metadata": {
        "id": "eHCCW93h9vyq"
      },
      "outputs": [],
      "source": [
        "import pandas as pd\n",
        "import numpy as np\n",
        "import matplotlib.pyplot as plt\n",
        "import seaborn as sns\n",
        "\n",
        "from sklearn.model_selection import train_test_split\n",
        "\n",
        "from sklearn.base import BaseEstimator, TransformerMixin\n",
        "from sklearn.pipeline import Pipeline\n",
        "from sklearn.preprocessing import MinMaxScaler\n",
        "from sklearn.preprocessing import OneHotEncoder\n",
        "from sklearn.pipeline import FeatureUnion\n",
        "\n",
        "from sklearn.model_selection import cross_val_score, GridSearchCV\n",
        "\n",
        "from sklearn.linear_model import LogisticRegression\n",
        "from sklearn.svm import SVC\n",
        "from sklearn.tree import DecisionTreeClassifier\n",
        "from sklearn.ensemble import RandomForestClassifier, AdaBoostClassifier\n",
        "from sklearn.neighbors import KNeighborsClassifier\n",
        "from sklearn.naive_bayes import GaussianNB\n",
        "\n",
        "from sklearn.metrics import roc_auc_score, accuracy_score\n",
        "from sklearn.metrics import confusion_matrix, classification_report, roc_curve\n",
        "\n",
        "%matplotlib inline"
      ]
    },
    {
      "cell_type": "markdown",
      "source": [
        "#III. Data Loading"
      ],
      "metadata": {
        "id": "2tIHq2zP-PoR"
      }
    },
    {
      "cell_type": "code",
      "source": [
        "dfraw = pd.read_csv('https://raw.githubusercontent.com/hafidzali04/Bank-Term-Deposit-/main/bank-additional-full.csv', sep = ';')\n",
        "pd.set_option('display.max_columns', None)\n",
        "dfraw"
      ],
      "metadata": {
        "colab": {
          "base_uri": "https://localhost:8080/"
        },
        "id": "N-E7zdpi-PAa",
        "outputId": "b28d2af0-b4b0-4e53-c7fa-ac95f8152e0d"
      },
      "execution_count": null,
      "outputs": [
        {
          "output_type": "execute_result",
          "data": {
            "text/html": [
              "\n",
              "  <div id=\"df-2657320c-412c-4a30-8dae-6d824dd9fa12\">\n",
              "    <div class=\"colab-df-container\">\n",
              "      <div>\n",
              "<style scoped>\n",
              "    .dataframe tbody tr th:only-of-type {\n",
              "        vertical-align: middle;\n",
              "    }\n",
              "\n",
              "    .dataframe tbody tr th {\n",
              "        vertical-align: top;\n",
              "    }\n",
              "\n",
              "    .dataframe thead th {\n",
              "        text-align: right;\n",
              "    }\n",
              "</style>\n",
              "<table border=\"1\" class=\"dataframe\">\n",
              "  <thead>\n",
              "    <tr style=\"text-align: right;\">\n",
              "      <th></th>\n",
              "      <th>age</th>\n",
              "      <th>job</th>\n",
              "      <th>marital</th>\n",
              "      <th>education</th>\n",
              "      <th>default</th>\n",
              "      <th>housing</th>\n",
              "      <th>loan</th>\n",
              "      <th>contact</th>\n",
              "      <th>month</th>\n",
              "      <th>day_of_week</th>\n",
              "      <th>duration</th>\n",
              "      <th>campaign</th>\n",
              "      <th>pdays</th>\n",
              "      <th>previous</th>\n",
              "      <th>poutcome</th>\n",
              "      <th>emp.var.rate</th>\n",
              "      <th>cons.price.idx</th>\n",
              "      <th>cons.conf.idx</th>\n",
              "      <th>euribor3m</th>\n",
              "      <th>nr.employed</th>\n",
              "      <th>y</th>\n",
              "    </tr>\n",
              "  </thead>\n",
              "  <tbody>\n",
              "    <tr>\n",
              "      <th>0</th>\n",
              "      <td>56</td>\n",
              "      <td>housemaid</td>\n",
              "      <td>married</td>\n",
              "      <td>basic.4y</td>\n",
              "      <td>no</td>\n",
              "      <td>no</td>\n",
              "      <td>no</td>\n",
              "      <td>telephone</td>\n",
              "      <td>may</td>\n",
              "      <td>mon</td>\n",
              "      <td>261</td>\n",
              "      <td>1</td>\n",
              "      <td>999</td>\n",
              "      <td>0</td>\n",
              "      <td>nonexistent</td>\n",
              "      <td>1.1</td>\n",
              "      <td>93.994</td>\n",
              "      <td>-36.4</td>\n",
              "      <td>4.857</td>\n",
              "      <td>5191.0</td>\n",
              "      <td>no</td>\n",
              "    </tr>\n",
              "    <tr>\n",
              "      <th>1</th>\n",
              "      <td>57</td>\n",
              "      <td>services</td>\n",
              "      <td>married</td>\n",
              "      <td>high.school</td>\n",
              "      <td>unknown</td>\n",
              "      <td>no</td>\n",
              "      <td>no</td>\n",
              "      <td>telephone</td>\n",
              "      <td>may</td>\n",
              "      <td>mon</td>\n",
              "      <td>149</td>\n",
              "      <td>1</td>\n",
              "      <td>999</td>\n",
              "      <td>0</td>\n",
              "      <td>nonexistent</td>\n",
              "      <td>1.1</td>\n",
              "      <td>93.994</td>\n",
              "      <td>-36.4</td>\n",
              "      <td>4.857</td>\n",
              "      <td>5191.0</td>\n",
              "      <td>no</td>\n",
              "    </tr>\n",
              "    <tr>\n",
              "      <th>2</th>\n",
              "      <td>37</td>\n",
              "      <td>services</td>\n",
              "      <td>married</td>\n",
              "      <td>high.school</td>\n",
              "      <td>no</td>\n",
              "      <td>yes</td>\n",
              "      <td>no</td>\n",
              "      <td>telephone</td>\n",
              "      <td>may</td>\n",
              "      <td>mon</td>\n",
              "      <td>226</td>\n",
              "      <td>1</td>\n",
              "      <td>999</td>\n",
              "      <td>0</td>\n",
              "      <td>nonexistent</td>\n",
              "      <td>1.1</td>\n",
              "      <td>93.994</td>\n",
              "      <td>-36.4</td>\n",
              "      <td>4.857</td>\n",
              "      <td>5191.0</td>\n",
              "      <td>no</td>\n",
              "    </tr>\n",
              "    <tr>\n",
              "      <th>3</th>\n",
              "      <td>40</td>\n",
              "      <td>admin.</td>\n",
              "      <td>married</td>\n",
              "      <td>basic.6y</td>\n",
              "      <td>no</td>\n",
              "      <td>no</td>\n",
              "      <td>no</td>\n",
              "      <td>telephone</td>\n",
              "      <td>may</td>\n",
              "      <td>mon</td>\n",
              "      <td>151</td>\n",
              "      <td>1</td>\n",
              "      <td>999</td>\n",
              "      <td>0</td>\n",
              "      <td>nonexistent</td>\n",
              "      <td>1.1</td>\n",
              "      <td>93.994</td>\n",
              "      <td>-36.4</td>\n",
              "      <td>4.857</td>\n",
              "      <td>5191.0</td>\n",
              "      <td>no</td>\n",
              "    </tr>\n",
              "    <tr>\n",
              "      <th>4</th>\n",
              "      <td>56</td>\n",
              "      <td>services</td>\n",
              "      <td>married</td>\n",
              "      <td>high.school</td>\n",
              "      <td>no</td>\n",
              "      <td>no</td>\n",
              "      <td>yes</td>\n",
              "      <td>telephone</td>\n",
              "      <td>may</td>\n",
              "      <td>mon</td>\n",
              "      <td>307</td>\n",
              "      <td>1</td>\n",
              "      <td>999</td>\n",
              "      <td>0</td>\n",
              "      <td>nonexistent</td>\n",
              "      <td>1.1</td>\n",
              "      <td>93.994</td>\n",
              "      <td>-36.4</td>\n",
              "      <td>4.857</td>\n",
              "      <td>5191.0</td>\n",
              "      <td>no</td>\n",
              "    </tr>\n",
              "    <tr>\n",
              "      <th>...</th>\n",
              "      <td>...</td>\n",
              "      <td>...</td>\n",
              "      <td>...</td>\n",
              "      <td>...</td>\n",
              "      <td>...</td>\n",
              "      <td>...</td>\n",
              "      <td>...</td>\n",
              "      <td>...</td>\n",
              "      <td>...</td>\n",
              "      <td>...</td>\n",
              "      <td>...</td>\n",
              "      <td>...</td>\n",
              "      <td>...</td>\n",
              "      <td>...</td>\n",
              "      <td>...</td>\n",
              "      <td>...</td>\n",
              "      <td>...</td>\n",
              "      <td>...</td>\n",
              "      <td>...</td>\n",
              "      <td>...</td>\n",
              "      <td>...</td>\n",
              "    </tr>\n",
              "    <tr>\n",
              "      <th>41183</th>\n",
              "      <td>73</td>\n",
              "      <td>retired</td>\n",
              "      <td>married</td>\n",
              "      <td>professional.course</td>\n",
              "      <td>no</td>\n",
              "      <td>yes</td>\n",
              "      <td>no</td>\n",
              "      <td>cellular</td>\n",
              "      <td>nov</td>\n",
              "      <td>fri</td>\n",
              "      <td>334</td>\n",
              "      <td>1</td>\n",
              "      <td>999</td>\n",
              "      <td>0</td>\n",
              "      <td>nonexistent</td>\n",
              "      <td>-1.1</td>\n",
              "      <td>94.767</td>\n",
              "      <td>-50.8</td>\n",
              "      <td>1.028</td>\n",
              "      <td>4963.6</td>\n",
              "      <td>yes</td>\n",
              "    </tr>\n",
              "    <tr>\n",
              "      <th>41184</th>\n",
              "      <td>46</td>\n",
              "      <td>blue-collar</td>\n",
              "      <td>married</td>\n",
              "      <td>professional.course</td>\n",
              "      <td>no</td>\n",
              "      <td>no</td>\n",
              "      <td>no</td>\n",
              "      <td>cellular</td>\n",
              "      <td>nov</td>\n",
              "      <td>fri</td>\n",
              "      <td>383</td>\n",
              "      <td>1</td>\n",
              "      <td>999</td>\n",
              "      <td>0</td>\n",
              "      <td>nonexistent</td>\n",
              "      <td>-1.1</td>\n",
              "      <td>94.767</td>\n",
              "      <td>-50.8</td>\n",
              "      <td>1.028</td>\n",
              "      <td>4963.6</td>\n",
              "      <td>no</td>\n",
              "    </tr>\n",
              "    <tr>\n",
              "      <th>41185</th>\n",
              "      <td>56</td>\n",
              "      <td>retired</td>\n",
              "      <td>married</td>\n",
              "      <td>university.degree</td>\n",
              "      <td>no</td>\n",
              "      <td>yes</td>\n",
              "      <td>no</td>\n",
              "      <td>cellular</td>\n",
              "      <td>nov</td>\n",
              "      <td>fri</td>\n",
              "      <td>189</td>\n",
              "      <td>2</td>\n",
              "      <td>999</td>\n",
              "      <td>0</td>\n",
              "      <td>nonexistent</td>\n",
              "      <td>-1.1</td>\n",
              "      <td>94.767</td>\n",
              "      <td>-50.8</td>\n",
              "      <td>1.028</td>\n",
              "      <td>4963.6</td>\n",
              "      <td>no</td>\n",
              "    </tr>\n",
              "    <tr>\n",
              "      <th>41186</th>\n",
              "      <td>44</td>\n",
              "      <td>technician</td>\n",
              "      <td>married</td>\n",
              "      <td>professional.course</td>\n",
              "      <td>no</td>\n",
              "      <td>no</td>\n",
              "      <td>no</td>\n",
              "      <td>cellular</td>\n",
              "      <td>nov</td>\n",
              "      <td>fri</td>\n",
              "      <td>442</td>\n",
              "      <td>1</td>\n",
              "      <td>999</td>\n",
              "      <td>0</td>\n",
              "      <td>nonexistent</td>\n",
              "      <td>-1.1</td>\n",
              "      <td>94.767</td>\n",
              "      <td>-50.8</td>\n",
              "      <td>1.028</td>\n",
              "      <td>4963.6</td>\n",
              "      <td>yes</td>\n",
              "    </tr>\n",
              "    <tr>\n",
              "      <th>41187</th>\n",
              "      <td>74</td>\n",
              "      <td>retired</td>\n",
              "      <td>married</td>\n",
              "      <td>professional.course</td>\n",
              "      <td>no</td>\n",
              "      <td>yes</td>\n",
              "      <td>no</td>\n",
              "      <td>cellular</td>\n",
              "      <td>nov</td>\n",
              "      <td>fri</td>\n",
              "      <td>239</td>\n",
              "      <td>3</td>\n",
              "      <td>999</td>\n",
              "      <td>1</td>\n",
              "      <td>failure</td>\n",
              "      <td>-1.1</td>\n",
              "      <td>94.767</td>\n",
              "      <td>-50.8</td>\n",
              "      <td>1.028</td>\n",
              "      <td>4963.6</td>\n",
              "      <td>no</td>\n",
              "    </tr>\n",
              "  </tbody>\n",
              "</table>\n",
              "<p>41188 rows × 21 columns</p>\n",
              "</div>\n",
              "      <button class=\"colab-df-convert\" onclick=\"convertToInteractive('df-2657320c-412c-4a30-8dae-6d824dd9fa12')\"\n",
              "              title=\"Convert this dataframe to an interactive table.\"\n",
              "              style=\"display:none;\">\n",
              "        \n",
              "  <svg xmlns=\"http://www.w3.org/2000/svg\" height=\"24px\"viewBox=\"0 0 24 24\"\n",
              "       width=\"24px\">\n",
              "    <path d=\"M0 0h24v24H0V0z\" fill=\"none\"/>\n",
              "    <path d=\"M18.56 5.44l.94 2.06.94-2.06 2.06-.94-2.06-.94-.94-2.06-.94 2.06-2.06.94zm-11 1L8.5 8.5l.94-2.06 2.06-.94-2.06-.94L8.5 2.5l-.94 2.06-2.06.94zm10 10l.94 2.06.94-2.06 2.06-.94-2.06-.94-.94-2.06-.94 2.06-2.06.94z\"/><path d=\"M17.41 7.96l-1.37-1.37c-.4-.4-.92-.59-1.43-.59-.52 0-1.04.2-1.43.59L10.3 9.45l-7.72 7.72c-.78.78-.78 2.05 0 2.83L4 21.41c.39.39.9.59 1.41.59.51 0 1.02-.2 1.41-.59l7.78-7.78 2.81-2.81c.8-.78.8-2.07 0-2.86zM5.41 20L4 18.59l7.72-7.72 1.47 1.35L5.41 20z\"/>\n",
              "  </svg>\n",
              "      </button>\n",
              "      \n",
              "  <style>\n",
              "    .colab-df-container {\n",
              "      display:flex;\n",
              "      flex-wrap:wrap;\n",
              "      gap: 12px;\n",
              "    }\n",
              "\n",
              "    .colab-df-convert {\n",
              "      background-color: #E8F0FE;\n",
              "      border: none;\n",
              "      border-radius: 50%;\n",
              "      cursor: pointer;\n",
              "      display: none;\n",
              "      fill: #1967D2;\n",
              "      height: 32px;\n",
              "      padding: 0 0 0 0;\n",
              "      width: 32px;\n",
              "    }\n",
              "\n",
              "    .colab-df-convert:hover {\n",
              "      background-color: #E2EBFA;\n",
              "      box-shadow: 0px 1px 2px rgba(60, 64, 67, 0.3), 0px 1px 3px 1px rgba(60, 64, 67, 0.15);\n",
              "      fill: #174EA6;\n",
              "    }\n",
              "\n",
              "    [theme=dark] .colab-df-convert {\n",
              "      background-color: #3B4455;\n",
              "      fill: #D2E3FC;\n",
              "    }\n",
              "\n",
              "    [theme=dark] .colab-df-convert:hover {\n",
              "      background-color: #434B5C;\n",
              "      box-shadow: 0px 1px 3px 1px rgba(0, 0, 0, 0.15);\n",
              "      filter: drop-shadow(0px 1px 2px rgba(0, 0, 0, 0.3));\n",
              "      fill: #FFFFFF;\n",
              "    }\n",
              "  </style>\n",
              "\n",
              "      <script>\n",
              "        const buttonEl =\n",
              "          document.querySelector('#df-2657320c-412c-4a30-8dae-6d824dd9fa12 button.colab-df-convert');\n",
              "        buttonEl.style.display =\n",
              "          google.colab.kernel.accessAllowed ? 'block' : 'none';\n",
              "\n",
              "        async function convertToInteractive(key) {\n",
              "          const element = document.querySelector('#df-2657320c-412c-4a30-8dae-6d824dd9fa12');\n",
              "          const dataTable =\n",
              "            await google.colab.kernel.invokeFunction('convertToInteractive',\n",
              "                                                     [key], {});\n",
              "          if (!dataTable) return;\n",
              "\n",
              "          const docLinkHtml = 'Like what you see? Visit the ' +\n",
              "            '<a target=\"_blank\" href=https://colab.research.google.com/notebooks/data_table.ipynb>data table notebook</a>'\n",
              "            + ' to learn more about interactive tables.';\n",
              "          element.innerHTML = '';\n",
              "          dataTable['output_type'] = 'display_data';\n",
              "          await google.colab.output.renderOutput(dataTable, element);\n",
              "          const docLink = document.createElement('div');\n",
              "          docLink.innerHTML = docLinkHtml;\n",
              "          element.appendChild(docLink);\n",
              "        }\n",
              "      </script>\n",
              "    </div>\n",
              "  </div>\n",
              "  "
            ],
            "text/plain": [
              "       age          job  marital            education  default housing loan  \\\n",
              "0       56    housemaid  married             basic.4y       no      no   no   \n",
              "1       57     services  married          high.school  unknown      no   no   \n",
              "2       37     services  married          high.school       no     yes   no   \n",
              "3       40       admin.  married             basic.6y       no      no   no   \n",
              "4       56     services  married          high.school       no      no  yes   \n",
              "...    ...          ...      ...                  ...      ...     ...  ...   \n",
              "41183   73      retired  married  professional.course       no     yes   no   \n",
              "41184   46  blue-collar  married  professional.course       no      no   no   \n",
              "41185   56      retired  married    university.degree       no     yes   no   \n",
              "41186   44   technician  married  professional.course       no      no   no   \n",
              "41187   74      retired  married  professional.course       no     yes   no   \n",
              "\n",
              "         contact month day_of_week  duration  campaign  pdays  previous  \\\n",
              "0      telephone   may         mon       261         1    999         0   \n",
              "1      telephone   may         mon       149         1    999         0   \n",
              "2      telephone   may         mon       226         1    999         0   \n",
              "3      telephone   may         mon       151         1    999         0   \n",
              "4      telephone   may         mon       307         1    999         0   \n",
              "...          ...   ...         ...       ...       ...    ...       ...   \n",
              "41183   cellular   nov         fri       334         1    999         0   \n",
              "41184   cellular   nov         fri       383         1    999         0   \n",
              "41185   cellular   nov         fri       189         2    999         0   \n",
              "41186   cellular   nov         fri       442         1    999         0   \n",
              "41187   cellular   nov         fri       239         3    999         1   \n",
              "\n",
              "          poutcome  emp.var.rate  cons.price.idx  cons.conf.idx  euribor3m  \\\n",
              "0      nonexistent           1.1          93.994          -36.4      4.857   \n",
              "1      nonexistent           1.1          93.994          -36.4      4.857   \n",
              "2      nonexistent           1.1          93.994          -36.4      4.857   \n",
              "3      nonexistent           1.1          93.994          -36.4      4.857   \n",
              "4      nonexistent           1.1          93.994          -36.4      4.857   \n",
              "...            ...           ...             ...            ...        ...   \n",
              "41183  nonexistent          -1.1          94.767          -50.8      1.028   \n",
              "41184  nonexistent          -1.1          94.767          -50.8      1.028   \n",
              "41185  nonexistent          -1.1          94.767          -50.8      1.028   \n",
              "41186  nonexistent          -1.1          94.767          -50.8      1.028   \n",
              "41187      failure          -1.1          94.767          -50.8      1.028   \n",
              "\n",
              "       nr.employed    y  \n",
              "0           5191.0   no  \n",
              "1           5191.0   no  \n",
              "2           5191.0   no  \n",
              "3           5191.0   no  \n",
              "4           5191.0   no  \n",
              "...            ...  ...  \n",
              "41183       4963.6  yes  \n",
              "41184       4963.6   no  \n",
              "41185       4963.6   no  \n",
              "41186       4963.6  yes  \n",
              "41187       4963.6   no  \n",
              "\n",
              "[41188 rows x 21 columns]"
            ]
          },
          "metadata": {},
          "execution_count": 2
        }
      ]
    },
    {
      "cell_type": "markdown",
      "source": [
        "#IV. Data Cleaning"
      ],
      "metadata": {
        "id": "hQAW_u22-mKA"
      }
    },
    {
      "cell_type": "code",
      "source": [
        "# Menghapus kolom duration berdasarkan deskripsi data , untuk mendapat  realistic predictive model kolom ini harus di drop\n",
        "\n",
        "dfraw = dfraw.drop('duration', axis = 1)\n",
        "dfraw.head()"
      ],
      "metadata": {
        "colab": {
          "base_uri": "https://localhost:8080/"
        },
        "id": "Zz4zKGf1CyEl",
        "outputId": "0351cfd8-7d66-4b24-9a0c-82ddbf21cb25"
      },
      "execution_count": null,
      "outputs": [
        {
          "output_type": "execute_result",
          "data": {
            "text/html": [
              "\n",
              "  <div id=\"df-ddac83e1-400a-4e89-9853-dcb94b0a3a9a\">\n",
              "    <div class=\"colab-df-container\">\n",
              "      <div>\n",
              "<style scoped>\n",
              "    .dataframe tbody tr th:only-of-type {\n",
              "        vertical-align: middle;\n",
              "    }\n",
              "\n",
              "    .dataframe tbody tr th {\n",
              "        vertical-align: top;\n",
              "    }\n",
              "\n",
              "    .dataframe thead th {\n",
              "        text-align: right;\n",
              "    }\n",
              "</style>\n",
              "<table border=\"1\" class=\"dataframe\">\n",
              "  <thead>\n",
              "    <tr style=\"text-align: right;\">\n",
              "      <th></th>\n",
              "      <th>age</th>\n",
              "      <th>job</th>\n",
              "      <th>marital</th>\n",
              "      <th>education</th>\n",
              "      <th>default</th>\n",
              "      <th>housing</th>\n",
              "      <th>loan</th>\n",
              "      <th>contact</th>\n",
              "      <th>month</th>\n",
              "      <th>day_of_week</th>\n",
              "      <th>campaign</th>\n",
              "      <th>pdays</th>\n",
              "      <th>previous</th>\n",
              "      <th>poutcome</th>\n",
              "      <th>emp.var.rate</th>\n",
              "      <th>cons.price.idx</th>\n",
              "      <th>cons.conf.idx</th>\n",
              "      <th>euribor3m</th>\n",
              "      <th>nr.employed</th>\n",
              "      <th>y</th>\n",
              "    </tr>\n",
              "  </thead>\n",
              "  <tbody>\n",
              "    <tr>\n",
              "      <th>0</th>\n",
              "      <td>56</td>\n",
              "      <td>housemaid</td>\n",
              "      <td>married</td>\n",
              "      <td>basic.4y</td>\n",
              "      <td>no</td>\n",
              "      <td>no</td>\n",
              "      <td>no</td>\n",
              "      <td>telephone</td>\n",
              "      <td>may</td>\n",
              "      <td>mon</td>\n",
              "      <td>1</td>\n",
              "      <td>999</td>\n",
              "      <td>0</td>\n",
              "      <td>nonexistent</td>\n",
              "      <td>1.1</td>\n",
              "      <td>93.994</td>\n",
              "      <td>-36.4</td>\n",
              "      <td>4.857</td>\n",
              "      <td>5191.0</td>\n",
              "      <td>no</td>\n",
              "    </tr>\n",
              "    <tr>\n",
              "      <th>1</th>\n",
              "      <td>57</td>\n",
              "      <td>services</td>\n",
              "      <td>married</td>\n",
              "      <td>high.school</td>\n",
              "      <td>unknown</td>\n",
              "      <td>no</td>\n",
              "      <td>no</td>\n",
              "      <td>telephone</td>\n",
              "      <td>may</td>\n",
              "      <td>mon</td>\n",
              "      <td>1</td>\n",
              "      <td>999</td>\n",
              "      <td>0</td>\n",
              "      <td>nonexistent</td>\n",
              "      <td>1.1</td>\n",
              "      <td>93.994</td>\n",
              "      <td>-36.4</td>\n",
              "      <td>4.857</td>\n",
              "      <td>5191.0</td>\n",
              "      <td>no</td>\n",
              "    </tr>\n",
              "    <tr>\n",
              "      <th>2</th>\n",
              "      <td>37</td>\n",
              "      <td>services</td>\n",
              "      <td>married</td>\n",
              "      <td>high.school</td>\n",
              "      <td>no</td>\n",
              "      <td>yes</td>\n",
              "      <td>no</td>\n",
              "      <td>telephone</td>\n",
              "      <td>may</td>\n",
              "      <td>mon</td>\n",
              "      <td>1</td>\n",
              "      <td>999</td>\n",
              "      <td>0</td>\n",
              "      <td>nonexistent</td>\n",
              "      <td>1.1</td>\n",
              "      <td>93.994</td>\n",
              "      <td>-36.4</td>\n",
              "      <td>4.857</td>\n",
              "      <td>5191.0</td>\n",
              "      <td>no</td>\n",
              "    </tr>\n",
              "    <tr>\n",
              "      <th>3</th>\n",
              "      <td>40</td>\n",
              "      <td>admin.</td>\n",
              "      <td>married</td>\n",
              "      <td>basic.6y</td>\n",
              "      <td>no</td>\n",
              "      <td>no</td>\n",
              "      <td>no</td>\n",
              "      <td>telephone</td>\n",
              "      <td>may</td>\n",
              "      <td>mon</td>\n",
              "      <td>1</td>\n",
              "      <td>999</td>\n",
              "      <td>0</td>\n",
              "      <td>nonexistent</td>\n",
              "      <td>1.1</td>\n",
              "      <td>93.994</td>\n",
              "      <td>-36.4</td>\n",
              "      <td>4.857</td>\n",
              "      <td>5191.0</td>\n",
              "      <td>no</td>\n",
              "    </tr>\n",
              "    <tr>\n",
              "      <th>4</th>\n",
              "      <td>56</td>\n",
              "      <td>services</td>\n",
              "      <td>married</td>\n",
              "      <td>high.school</td>\n",
              "      <td>no</td>\n",
              "      <td>no</td>\n",
              "      <td>yes</td>\n",
              "      <td>telephone</td>\n",
              "      <td>may</td>\n",
              "      <td>mon</td>\n",
              "      <td>1</td>\n",
              "      <td>999</td>\n",
              "      <td>0</td>\n",
              "      <td>nonexistent</td>\n",
              "      <td>1.1</td>\n",
              "      <td>93.994</td>\n",
              "      <td>-36.4</td>\n",
              "      <td>4.857</td>\n",
              "      <td>5191.0</td>\n",
              "      <td>no</td>\n",
              "    </tr>\n",
              "  </tbody>\n",
              "</table>\n",
              "</div>\n",
              "      <button class=\"colab-df-convert\" onclick=\"convertToInteractive('df-ddac83e1-400a-4e89-9853-dcb94b0a3a9a')\"\n",
              "              title=\"Convert this dataframe to an interactive table.\"\n",
              "              style=\"display:none;\">\n",
              "        \n",
              "  <svg xmlns=\"http://www.w3.org/2000/svg\" height=\"24px\"viewBox=\"0 0 24 24\"\n",
              "       width=\"24px\">\n",
              "    <path d=\"M0 0h24v24H0V0z\" fill=\"none\"/>\n",
              "    <path d=\"M18.56 5.44l.94 2.06.94-2.06 2.06-.94-2.06-.94-.94-2.06-.94 2.06-2.06.94zm-11 1L8.5 8.5l.94-2.06 2.06-.94-2.06-.94L8.5 2.5l-.94 2.06-2.06.94zm10 10l.94 2.06.94-2.06 2.06-.94-2.06-.94-.94-2.06-.94 2.06-2.06.94z\"/><path d=\"M17.41 7.96l-1.37-1.37c-.4-.4-.92-.59-1.43-.59-.52 0-1.04.2-1.43.59L10.3 9.45l-7.72 7.72c-.78.78-.78 2.05 0 2.83L4 21.41c.39.39.9.59 1.41.59.51 0 1.02-.2 1.41-.59l7.78-7.78 2.81-2.81c.8-.78.8-2.07 0-2.86zM5.41 20L4 18.59l7.72-7.72 1.47 1.35L5.41 20z\"/>\n",
              "  </svg>\n",
              "      </button>\n",
              "      \n",
              "  <style>\n",
              "    .colab-df-container {\n",
              "      display:flex;\n",
              "      flex-wrap:wrap;\n",
              "      gap: 12px;\n",
              "    }\n",
              "\n",
              "    .colab-df-convert {\n",
              "      background-color: #E8F0FE;\n",
              "      border: none;\n",
              "      border-radius: 50%;\n",
              "      cursor: pointer;\n",
              "      display: none;\n",
              "      fill: #1967D2;\n",
              "      height: 32px;\n",
              "      padding: 0 0 0 0;\n",
              "      width: 32px;\n",
              "    }\n",
              "\n",
              "    .colab-df-convert:hover {\n",
              "      background-color: #E2EBFA;\n",
              "      box-shadow: 0px 1px 2px rgba(60, 64, 67, 0.3), 0px 1px 3px 1px rgba(60, 64, 67, 0.15);\n",
              "      fill: #174EA6;\n",
              "    }\n",
              "\n",
              "    [theme=dark] .colab-df-convert {\n",
              "      background-color: #3B4455;\n",
              "      fill: #D2E3FC;\n",
              "    }\n",
              "\n",
              "    [theme=dark] .colab-df-convert:hover {\n",
              "      background-color: #434B5C;\n",
              "      box-shadow: 0px 1px 3px 1px rgba(0, 0, 0, 0.15);\n",
              "      filter: drop-shadow(0px 1px 2px rgba(0, 0, 0, 0.3));\n",
              "      fill: #FFFFFF;\n",
              "    }\n",
              "  </style>\n",
              "\n",
              "      <script>\n",
              "        const buttonEl =\n",
              "          document.querySelector('#df-ddac83e1-400a-4e89-9853-dcb94b0a3a9a button.colab-df-convert');\n",
              "        buttonEl.style.display =\n",
              "          google.colab.kernel.accessAllowed ? 'block' : 'none';\n",
              "\n",
              "        async function convertToInteractive(key) {\n",
              "          const element = document.querySelector('#df-ddac83e1-400a-4e89-9853-dcb94b0a3a9a');\n",
              "          const dataTable =\n",
              "            await google.colab.kernel.invokeFunction('convertToInteractive',\n",
              "                                                     [key], {});\n",
              "          if (!dataTable) return;\n",
              "\n",
              "          const docLinkHtml = 'Like what you see? Visit the ' +\n",
              "            '<a target=\"_blank\" href=https://colab.research.google.com/notebooks/data_table.ipynb>data table notebook</a>'\n",
              "            + ' to learn more about interactive tables.';\n",
              "          element.innerHTML = '';\n",
              "          dataTable['output_type'] = 'display_data';\n",
              "          await google.colab.output.renderOutput(dataTable, element);\n",
              "          const docLink = document.createElement('div');\n",
              "          docLink.innerHTML = docLinkHtml;\n",
              "          element.appendChild(docLink);\n",
              "        }\n",
              "      </script>\n",
              "    </div>\n",
              "  </div>\n",
              "  "
            ],
            "text/plain": [
              "   age        job  marital    education  default housing loan    contact  \\\n",
              "0   56  housemaid  married     basic.4y       no      no   no  telephone   \n",
              "1   57   services  married  high.school  unknown      no   no  telephone   \n",
              "2   37   services  married  high.school       no     yes   no  telephone   \n",
              "3   40     admin.  married     basic.6y       no      no   no  telephone   \n",
              "4   56   services  married  high.school       no      no  yes  telephone   \n",
              "\n",
              "  month day_of_week  campaign  pdays  previous     poutcome  emp.var.rate  \\\n",
              "0   may         mon         1    999         0  nonexistent           1.1   \n",
              "1   may         mon         1    999         0  nonexistent           1.1   \n",
              "2   may         mon         1    999         0  nonexistent           1.1   \n",
              "3   may         mon         1    999         0  nonexistent           1.1   \n",
              "4   may         mon         1    999         0  nonexistent           1.1   \n",
              "\n",
              "   cons.price.idx  cons.conf.idx  euribor3m  nr.employed   y  \n",
              "0          93.994          -36.4      4.857       5191.0  no  \n",
              "1          93.994          -36.4      4.857       5191.0  no  \n",
              "2          93.994          -36.4      4.857       5191.0  no  \n",
              "3          93.994          -36.4      4.857       5191.0  no  \n",
              "4          93.994          -36.4      4.857       5191.0  no  "
            ]
          },
          "metadata": {},
          "execution_count": 3
        }
      ]
    },
    {
      "cell_type": "code",
      "source": [
        "dfraw.info() #Check Tipe data"
      ],
      "metadata": {
        "colab": {
          "base_uri": "https://localhost:8080/"
        },
        "id": "Hir3PAFY-VmG",
        "outputId": "b7d8bdc0-5515-49db-f9ca-3f0712f1b06b"
      },
      "execution_count": null,
      "outputs": [
        {
          "output_type": "stream",
          "name": "stdout",
          "text": [
            "<class 'pandas.core.frame.DataFrame'>\n",
            "RangeIndex: 41188 entries, 0 to 41187\n",
            "Data columns (total 20 columns):\n",
            " #   Column          Non-Null Count  Dtype  \n",
            "---  ------          --------------  -----  \n",
            " 0   age             41188 non-null  int64  \n",
            " 1   job             41188 non-null  object \n",
            " 2   marital         41188 non-null  object \n",
            " 3   education       41188 non-null  object \n",
            " 4   default         41188 non-null  object \n",
            " 5   housing         41188 non-null  object \n",
            " 6   loan            41188 non-null  object \n",
            " 7   contact         41188 non-null  object \n",
            " 8   month           41188 non-null  object \n",
            " 9   day_of_week     41188 non-null  object \n",
            " 10  campaign        41188 non-null  int64  \n",
            " 11  pdays           41188 non-null  int64  \n",
            " 12  previous        41188 non-null  int64  \n",
            " 13  poutcome        41188 non-null  object \n",
            " 14  emp.var.rate    41188 non-null  float64\n",
            " 15  cons.price.idx  41188 non-null  float64\n",
            " 16  cons.conf.idx   41188 non-null  float64\n",
            " 17  euribor3m       41188 non-null  float64\n",
            " 18  nr.employed     41188 non-null  float64\n",
            " 19  y               41188 non-null  object \n",
            "dtypes: float64(5), int64(4), object(11)\n",
            "memory usage: 6.3+ MB\n"
          ]
        }
      ]
    },
    {
      "cell_type": "code",
      "source": [
        "#Check Missing Values\n",
        "dfraw.isnull().sum()"
      ],
      "metadata": {
        "colab": {
          "base_uri": "https://localhost:8080/"
        },
        "id": "xmmO0pqC-5Xi",
        "outputId": "d252ccfe-6748-4ea3-f25c-be203ef048c9"
      },
      "execution_count": null,
      "outputs": [
        {
          "output_type": "execute_result",
          "data": {
            "text/plain": [
              "age               0\n",
              "job               0\n",
              "marital           0\n",
              "education         0\n",
              "default           0\n",
              "housing           0\n",
              "loan              0\n",
              "contact           0\n",
              "month             0\n",
              "day_of_week       0\n",
              "campaign          0\n",
              "pdays             0\n",
              "previous          0\n",
              "poutcome          0\n",
              "emp.var.rate      0\n",
              "cons.price.idx    0\n",
              "cons.conf.idx     0\n",
              "euribor3m         0\n",
              "nr.employed       0\n",
              "y                 0\n",
              "dtype: int64"
            ]
          },
          "metadata": {},
          "execution_count": 5
        }
      ]
    },
    {
      "cell_type": "code",
      "source": [
        "#Check Duplicate\n",
        "dfraw.duplicated().sum()"
      ],
      "metadata": {
        "colab": {
          "base_uri": "https://localhost:8080/"
        },
        "id": "oDmrwpHd_G6y",
        "outputId": "e03217be-7718-4987-d8b2-21a35c97fd2c"
      },
      "execution_count": null,
      "outputs": [
        {
          "output_type": "execute_result",
          "data": {
            "text/plain": [
              "1784"
            ]
          },
          "metadata": {},
          "execution_count": 6
        }
      ]
    },
    {
      "cell_type": "code",
      "source": [
        "dfraw = dfraw.drop_duplicates(keep='first') #Menghapus data duplicate\n",
        "dfraw.reset_index(drop = True, inplace = True)\n",
        "dfraw.shape"
      ],
      "metadata": {
        "colab": {
          "base_uri": "https://localhost:8080/"
        },
        "id": "EyN7YUoy_PNr",
        "outputId": "0deddb7b-077c-4e3e-f85a-89723efd5252"
      },
      "execution_count": null,
      "outputs": [
        {
          "output_type": "execute_result",
          "data": {
            "text/plain": [
              "(39404, 20)"
            ]
          },
          "metadata": {},
          "execution_count": 7
        }
      ]
    },
    {
      "cell_type": "code",
      "source": [
        "dfraw['y'].value_counts()"
      ],
      "metadata": {
        "colab": {
          "base_uri": "https://localhost:8080/"
        },
        "id": "DEVUHf-x_-F3",
        "outputId": "045cac02-aac1-42ec-e4c9-ddc239003e98"
      },
      "execution_count": null,
      "outputs": [
        {
          "output_type": "execute_result",
          "data": {
            "text/plain": [
              "no     34806\n",
              "yes     4598\n",
              "Name: y, dtype: int64"
            ]
          },
          "metadata": {},
          "execution_count": 8
        }
      ]
    },
    {
      "cell_type": "code",
      "source": [
        "# Mengubah value dari target menjadi numerikal\n",
        "dfraw['y'] = dfraw['y'].replace({'no': 0, 'yes':1})"
      ],
      "metadata": {
        "id": "h1V_4AFOAFK8"
      },
      "execution_count": null,
      "outputs": []
    },
    {
      "cell_type": "code",
      "source": [
        "# Checking the unique values of categorical columns\n",
        "for column in dfraw.select_dtypes(include=['object']).columns:\n",
        "    print(column)\n",
        "    print(dfraw[column].unique())\n",
        "    print('\\n')"
      ],
      "metadata": {
        "colab": {
          "base_uri": "https://localhost:8080/"
        },
        "id": "-paY_JnqAxZZ",
        "outputId": "66d3a0d7-c950-46df-9585-d8818933d683"
      },
      "execution_count": null,
      "outputs": [
        {
          "output_type": "stream",
          "name": "stdout",
          "text": [
            "job\n",
            "['housemaid' 'services' 'admin.' 'blue-collar' 'technician' 'retired'\n",
            " 'management' 'unemployed' 'self-employed' 'unknown' 'entrepreneur'\n",
            " 'student']\n",
            "\n",
            "\n",
            "marital\n",
            "['married' 'single' 'divorced' 'unknown']\n",
            "\n",
            "\n",
            "education\n",
            "['basic.4y' 'high.school' 'basic.6y' 'basic.9y' 'professional.course'\n",
            " 'unknown' 'university.degree' 'illiterate']\n",
            "\n",
            "\n",
            "default\n",
            "['no' 'unknown' 'yes']\n",
            "\n",
            "\n",
            "housing\n",
            "['no' 'yes' 'unknown']\n",
            "\n",
            "\n",
            "loan\n",
            "['no' 'yes' 'unknown']\n",
            "\n",
            "\n",
            "contact\n",
            "['telephone' 'cellular']\n",
            "\n",
            "\n",
            "month\n",
            "['may' 'jun' 'jul' 'aug' 'oct' 'nov' 'dec' 'mar' 'apr' 'sep']\n",
            "\n",
            "\n",
            "day_of_week\n",
            "['mon' 'tue' 'wed' 'thu' 'fri']\n",
            "\n",
            "\n",
            "poutcome\n",
            "['nonexistent' 'failure' 'success']\n",
            "\n",
            "\n"
          ]
        }
      ]
    },
    {
      "cell_type": "code",
      "source": [
        "dfraw['job'].value_counts()"
      ],
      "metadata": {
        "colab": {
          "base_uri": "https://localhost:8080/"
        },
        "id": "caAoZicTGUUD",
        "outputId": "bef5c05c-1120-4279-d583-472a0f30cdb8"
      },
      "execution_count": null,
      "outputs": [
        {
          "output_type": "execute_result",
          "data": {
            "text/plain": [
              "admin.           9873\n",
              "blue-collar      8835\n",
              "technician       6404\n",
              "services         3801\n",
              "management       2820\n",
              "retired          1683\n",
              "entrepreneur     1405\n",
              "self-employed    1386\n",
              "housemaid        1028\n",
              "unemployed        992\n",
              "student           852\n",
              "unknown           325\n",
              "Name: job, dtype: int64"
            ]
          },
          "metadata": {},
          "execution_count": 11
        }
      ]
    },
    {
      "cell_type": "code",
      "source": [
        "dfraw['marital'].value_counts()"
      ],
      "metadata": {
        "colab": {
          "base_uri": "https://localhost:8080/"
        },
        "id": "PjKIZV_uHs7F",
        "outputId": "e9b1f840-d38a-465a-9815-a76786a5f283"
      },
      "execution_count": null,
      "outputs": [
        {
          "output_type": "execute_result",
          "data": {
            "text/plain": [
              "married     23869\n",
              "single      10997\n",
              "divorced     4459\n",
              "unknown        79\n",
              "Name: marital, dtype: int64"
            ]
          },
          "metadata": {},
          "execution_count": 12
        }
      ]
    },
    {
      "cell_type": "code",
      "source": [
        "dfraw['education'].value_counts()"
      ],
      "metadata": {
        "colab": {
          "base_uri": "https://localhost:8080/"
        },
        "id": "-THdEFkMIsJB",
        "outputId": "cecb959f-dc27-43b1-c823-08f8e65d9a08"
      },
      "execution_count": null,
      "outputs": [
        {
          "output_type": "execute_result",
          "data": {
            "text/plain": [
              "university.degree      11561\n",
              "high.school             9121\n",
              "basic.9y                5785\n",
              "professional.course     5018\n",
              "basic.4y                3993\n",
              "basic.6y                2222\n",
              "unknown                 1686\n",
              "illiterate                18\n",
              "Name: education, dtype: int64"
            ]
          },
          "metadata": {},
          "execution_count": 13
        }
      ]
    },
    {
      "cell_type": "code",
      "source": [
        "dfraw['housing'].value_counts()"
      ],
      "metadata": {
        "colab": {
          "base_uri": "https://localhost:8080/"
        },
        "id": "DoqNVBcoGPEf",
        "outputId": "d15ef583-d9f5-422f-b051-ed3f36ac601e"
      },
      "execution_count": null,
      "outputs": [
        {
          "output_type": "execute_result",
          "data": {
            "text/plain": [
              "yes        20561\n",
              "no         17863\n",
              "unknown      980\n",
              "Name: housing, dtype: int64"
            ]
          },
          "metadata": {},
          "execution_count": 14
        }
      ]
    },
    {
      "cell_type": "code",
      "source": [
        "dfraw['default'].value_counts()"
      ],
      "metadata": {
        "colab": {
          "base_uri": "https://localhost:8080/"
        },
        "id": "iVAsZxOmHryr",
        "outputId": "88f156da-82ee-403e-83e8-fb574f5342ac"
      },
      "execution_count": null,
      "outputs": [
        {
          "output_type": "execute_result",
          "data": {
            "text/plain": [
              "no         31135\n",
              "unknown     8266\n",
              "yes            3\n",
              "Name: default, dtype: int64"
            ]
          },
          "metadata": {},
          "execution_count": 15
        }
      ]
    },
    {
      "cell_type": "code",
      "source": [
        "dfraw['loan'].value_counts()"
      ],
      "metadata": {
        "colab": {
          "base_uri": "https://localhost:8080/"
        },
        "id": "PlvpaaSBJSB0",
        "outputId": "d7134403-8b50-4749-d0e2-70894357ea3f"
      },
      "execution_count": null,
      "outputs": [
        {
          "output_type": "execute_result",
          "data": {
            "text/plain": [
              "no         32248\n",
              "yes         6176\n",
              "unknown      980\n",
              "Name: loan, dtype: int64"
            ]
          },
          "metadata": {},
          "execution_count": 16
        }
      ]
    },
    {
      "cell_type": "code",
      "source": [
        "dfraw.shape"
      ],
      "metadata": {
        "colab": {
          "base_uri": "https://localhost:8080/"
        },
        "id": "uh6fAcQLKACB",
        "outputId": "dc6936f1-5462-4beb-c9e8-47f25ef5b431"
      },
      "execution_count": null,
      "outputs": [
        {
          "output_type": "execute_result",
          "data": {
            "text/plain": [
              "(39404, 20)"
            ]
          },
          "metadata": {},
          "execution_count": 17
        }
      ]
    },
    {
      "cell_type": "markdown",
      "source": [
        "* Untuk Value unknown pada kolom housing default dan loan akan di replace ke value yang paling banyak. (value unknown pada housing akan direplace menjadi yes)\n",
        "* untuk value unknown pada kolom job marital dan education akan di drop"
      ],
      "metadata": {
        "id": "kepAq1CXbveC"
      }
    },
    {
      "cell_type": "code",
      "source": [
        "dfraw['housing'] = dfraw['housing'].replace(['unknown'], 'yes')\n",
        "dfraw['loan'] = dfraw['loan'].replace(['unknown'], 'no')\n",
        "dfraw['default'] = dfraw['default'].replace(['unknown'], 'no')"
      ],
      "metadata": {
        "id": "q3OvgoP4cJ2q"
      },
      "execution_count": null,
      "outputs": []
    },
    {
      "cell_type": "code",
      "source": [
        "dfraw.drop(dfraw.index[(dfraw[\"job\"] == \"unknown\")],axis=0,inplace=True)\n",
        "dfraw.drop(dfraw.index[(dfraw[\"marital\"] == \"unknown\")],axis=0,inplace=True)\n",
        "dfraw.drop(dfraw.index[(dfraw[\"education\"] == \"unknown\")],axis=0,inplace=True)"
      ],
      "metadata": {
        "id": "xR8vWbqLciQX"
      },
      "execution_count": null,
      "outputs": []
    },
    {
      "cell_type": "code",
      "source": [
        "dfraw.shape"
      ],
      "metadata": {
        "colab": {
          "base_uri": "https://localhost:8080/"
        },
        "id": "5fVpc2y1crQ1",
        "outputId": "6d60729b-a740-4557-c90e-14a23144b065"
      },
      "execution_count": null,
      "outputs": [
        {
          "output_type": "execute_result",
          "data": {
            "text/plain": [
              "(37455, 20)"
            ]
          },
          "metadata": {},
          "execution_count": 20
        }
      ]
    },
    {
      "cell_type": "code",
      "source": [
        "for column in dfraw.select_dtypes(include=['object']).columns:\n",
        "    print(column)\n",
        "    print(dfraw[column].unique())\n",
        "    print('\\n')"
      ],
      "metadata": {
        "colab": {
          "base_uri": "https://localhost:8080/"
        },
        "id": "ybfWtMIiczyY",
        "outputId": "abf6caaa-e39b-46a5-bb2d-6f89dd59950b"
      },
      "execution_count": null,
      "outputs": [
        {
          "output_type": "stream",
          "name": "stdout",
          "text": [
            "job\n",
            "['housemaid' 'services' 'admin.' 'technician' 'blue-collar' 'retired'\n",
            " 'management' 'unemployed' 'self-employed' 'entrepreneur' 'student']\n",
            "\n",
            "\n",
            "marital\n",
            "['married' 'single' 'divorced']\n",
            "\n",
            "\n",
            "education\n",
            "['basic.4y' 'high.school' 'basic.6y' 'basic.9y' 'professional.course'\n",
            " 'university.degree' 'illiterate']\n",
            "\n",
            "\n",
            "default\n",
            "['no' 'yes']\n",
            "\n",
            "\n",
            "housing\n",
            "['no' 'yes']\n",
            "\n",
            "\n",
            "loan\n",
            "['no' 'yes']\n",
            "\n",
            "\n",
            "contact\n",
            "['telephone' 'cellular']\n",
            "\n",
            "\n",
            "month\n",
            "['may' 'jun' 'jul' 'aug' 'oct' 'nov' 'dec' 'mar' 'apr' 'sep']\n",
            "\n",
            "\n",
            "day_of_week\n",
            "['mon' 'tue' 'wed' 'thu' 'fri']\n",
            "\n",
            "\n",
            "poutcome\n",
            "['nonexistent' 'failure' 'success']\n",
            "\n",
            "\n"
          ]
        }
      ]
    },
    {
      "cell_type": "code",
      "source": [
        "dfclean = dfraw.copy()\n",
        "dfclean.head()"
      ],
      "metadata": {
        "colab": {
          "base_uri": "https://localhost:8080/"
        },
        "id": "3pZHALi1_rYb",
        "outputId": "d8f7e8aa-1950-40dc-cc5a-dbd5044246d0"
      },
      "execution_count": null,
      "outputs": [
        {
          "output_type": "execute_result",
          "data": {
            "text/html": [
              "\n",
              "  <div id=\"df-aca3ed73-6703-4c27-ab5d-3be03c80a921\">\n",
              "    <div class=\"colab-df-container\">\n",
              "      <div>\n",
              "<style scoped>\n",
              "    .dataframe tbody tr th:only-of-type {\n",
              "        vertical-align: middle;\n",
              "    }\n",
              "\n",
              "    .dataframe tbody tr th {\n",
              "        vertical-align: top;\n",
              "    }\n",
              "\n",
              "    .dataframe thead th {\n",
              "        text-align: right;\n",
              "    }\n",
              "</style>\n",
              "<table border=\"1\" class=\"dataframe\">\n",
              "  <thead>\n",
              "    <tr style=\"text-align: right;\">\n",
              "      <th></th>\n",
              "      <th>age</th>\n",
              "      <th>job</th>\n",
              "      <th>marital</th>\n",
              "      <th>education</th>\n",
              "      <th>default</th>\n",
              "      <th>housing</th>\n",
              "      <th>loan</th>\n",
              "      <th>contact</th>\n",
              "      <th>month</th>\n",
              "      <th>day_of_week</th>\n",
              "      <th>campaign</th>\n",
              "      <th>pdays</th>\n",
              "      <th>previous</th>\n",
              "      <th>poutcome</th>\n",
              "      <th>emp.var.rate</th>\n",
              "      <th>cons.price.idx</th>\n",
              "      <th>cons.conf.idx</th>\n",
              "      <th>euribor3m</th>\n",
              "      <th>nr.employed</th>\n",
              "      <th>y</th>\n",
              "    </tr>\n",
              "  </thead>\n",
              "  <tbody>\n",
              "    <tr>\n",
              "      <th>0</th>\n",
              "      <td>56</td>\n",
              "      <td>housemaid</td>\n",
              "      <td>married</td>\n",
              "      <td>basic.4y</td>\n",
              "      <td>no</td>\n",
              "      <td>no</td>\n",
              "      <td>no</td>\n",
              "      <td>telephone</td>\n",
              "      <td>may</td>\n",
              "      <td>mon</td>\n",
              "      <td>1</td>\n",
              "      <td>999</td>\n",
              "      <td>0</td>\n",
              "      <td>nonexistent</td>\n",
              "      <td>1.1</td>\n",
              "      <td>93.994</td>\n",
              "      <td>-36.4</td>\n",
              "      <td>4.857</td>\n",
              "      <td>5191.0</td>\n",
              "      <td>0</td>\n",
              "    </tr>\n",
              "    <tr>\n",
              "      <th>1</th>\n",
              "      <td>57</td>\n",
              "      <td>services</td>\n",
              "      <td>married</td>\n",
              "      <td>high.school</td>\n",
              "      <td>no</td>\n",
              "      <td>no</td>\n",
              "      <td>no</td>\n",
              "      <td>telephone</td>\n",
              "      <td>may</td>\n",
              "      <td>mon</td>\n",
              "      <td>1</td>\n",
              "      <td>999</td>\n",
              "      <td>0</td>\n",
              "      <td>nonexistent</td>\n",
              "      <td>1.1</td>\n",
              "      <td>93.994</td>\n",
              "      <td>-36.4</td>\n",
              "      <td>4.857</td>\n",
              "      <td>5191.0</td>\n",
              "      <td>0</td>\n",
              "    </tr>\n",
              "    <tr>\n",
              "      <th>2</th>\n",
              "      <td>37</td>\n",
              "      <td>services</td>\n",
              "      <td>married</td>\n",
              "      <td>high.school</td>\n",
              "      <td>no</td>\n",
              "      <td>yes</td>\n",
              "      <td>no</td>\n",
              "      <td>telephone</td>\n",
              "      <td>may</td>\n",
              "      <td>mon</td>\n",
              "      <td>1</td>\n",
              "      <td>999</td>\n",
              "      <td>0</td>\n",
              "      <td>nonexistent</td>\n",
              "      <td>1.1</td>\n",
              "      <td>93.994</td>\n",
              "      <td>-36.4</td>\n",
              "      <td>4.857</td>\n",
              "      <td>5191.0</td>\n",
              "      <td>0</td>\n",
              "    </tr>\n",
              "    <tr>\n",
              "      <th>3</th>\n",
              "      <td>40</td>\n",
              "      <td>admin.</td>\n",
              "      <td>married</td>\n",
              "      <td>basic.6y</td>\n",
              "      <td>no</td>\n",
              "      <td>no</td>\n",
              "      <td>no</td>\n",
              "      <td>telephone</td>\n",
              "      <td>may</td>\n",
              "      <td>mon</td>\n",
              "      <td>1</td>\n",
              "      <td>999</td>\n",
              "      <td>0</td>\n",
              "      <td>nonexistent</td>\n",
              "      <td>1.1</td>\n",
              "      <td>93.994</td>\n",
              "      <td>-36.4</td>\n",
              "      <td>4.857</td>\n",
              "      <td>5191.0</td>\n",
              "      <td>0</td>\n",
              "    </tr>\n",
              "    <tr>\n",
              "      <th>4</th>\n",
              "      <td>56</td>\n",
              "      <td>services</td>\n",
              "      <td>married</td>\n",
              "      <td>high.school</td>\n",
              "      <td>no</td>\n",
              "      <td>no</td>\n",
              "      <td>yes</td>\n",
              "      <td>telephone</td>\n",
              "      <td>may</td>\n",
              "      <td>mon</td>\n",
              "      <td>1</td>\n",
              "      <td>999</td>\n",
              "      <td>0</td>\n",
              "      <td>nonexistent</td>\n",
              "      <td>1.1</td>\n",
              "      <td>93.994</td>\n",
              "      <td>-36.4</td>\n",
              "      <td>4.857</td>\n",
              "      <td>5191.0</td>\n",
              "      <td>0</td>\n",
              "    </tr>\n",
              "  </tbody>\n",
              "</table>\n",
              "</div>\n",
              "      <button class=\"colab-df-convert\" onclick=\"convertToInteractive('df-aca3ed73-6703-4c27-ab5d-3be03c80a921')\"\n",
              "              title=\"Convert this dataframe to an interactive table.\"\n",
              "              style=\"display:none;\">\n",
              "        \n",
              "  <svg xmlns=\"http://www.w3.org/2000/svg\" height=\"24px\"viewBox=\"0 0 24 24\"\n",
              "       width=\"24px\">\n",
              "    <path d=\"M0 0h24v24H0V0z\" fill=\"none\"/>\n",
              "    <path d=\"M18.56 5.44l.94 2.06.94-2.06 2.06-.94-2.06-.94-.94-2.06-.94 2.06-2.06.94zm-11 1L8.5 8.5l.94-2.06 2.06-.94-2.06-.94L8.5 2.5l-.94 2.06-2.06.94zm10 10l.94 2.06.94-2.06 2.06-.94-2.06-.94-.94-2.06-.94 2.06-2.06.94z\"/><path d=\"M17.41 7.96l-1.37-1.37c-.4-.4-.92-.59-1.43-.59-.52 0-1.04.2-1.43.59L10.3 9.45l-7.72 7.72c-.78.78-.78 2.05 0 2.83L4 21.41c.39.39.9.59 1.41.59.51 0 1.02-.2 1.41-.59l7.78-7.78 2.81-2.81c.8-.78.8-2.07 0-2.86zM5.41 20L4 18.59l7.72-7.72 1.47 1.35L5.41 20z\"/>\n",
              "  </svg>\n",
              "      </button>\n",
              "      \n",
              "  <style>\n",
              "    .colab-df-container {\n",
              "      display:flex;\n",
              "      flex-wrap:wrap;\n",
              "      gap: 12px;\n",
              "    }\n",
              "\n",
              "    .colab-df-convert {\n",
              "      background-color: #E8F0FE;\n",
              "      border: none;\n",
              "      border-radius: 50%;\n",
              "      cursor: pointer;\n",
              "      display: none;\n",
              "      fill: #1967D2;\n",
              "      height: 32px;\n",
              "      padding: 0 0 0 0;\n",
              "      width: 32px;\n",
              "    }\n",
              "\n",
              "    .colab-df-convert:hover {\n",
              "      background-color: #E2EBFA;\n",
              "      box-shadow: 0px 1px 2px rgba(60, 64, 67, 0.3), 0px 1px 3px 1px rgba(60, 64, 67, 0.15);\n",
              "      fill: #174EA6;\n",
              "    }\n",
              "\n",
              "    [theme=dark] .colab-df-convert {\n",
              "      background-color: #3B4455;\n",
              "      fill: #D2E3FC;\n",
              "    }\n",
              "\n",
              "    [theme=dark] .colab-df-convert:hover {\n",
              "      background-color: #434B5C;\n",
              "      box-shadow: 0px 1px 3px 1px rgba(0, 0, 0, 0.15);\n",
              "      filter: drop-shadow(0px 1px 2px rgba(0, 0, 0, 0.3));\n",
              "      fill: #FFFFFF;\n",
              "    }\n",
              "  </style>\n",
              "\n",
              "      <script>\n",
              "        const buttonEl =\n",
              "          document.querySelector('#df-aca3ed73-6703-4c27-ab5d-3be03c80a921 button.colab-df-convert');\n",
              "        buttonEl.style.display =\n",
              "          google.colab.kernel.accessAllowed ? 'block' : 'none';\n",
              "\n",
              "        async function convertToInteractive(key) {\n",
              "          const element = document.querySelector('#df-aca3ed73-6703-4c27-ab5d-3be03c80a921');\n",
              "          const dataTable =\n",
              "            await google.colab.kernel.invokeFunction('convertToInteractive',\n",
              "                                                     [key], {});\n",
              "          if (!dataTable) return;\n",
              "\n",
              "          const docLinkHtml = 'Like what you see? Visit the ' +\n",
              "            '<a target=\"_blank\" href=https://colab.research.google.com/notebooks/data_table.ipynb>data table notebook</a>'\n",
              "            + ' to learn more about interactive tables.';\n",
              "          element.innerHTML = '';\n",
              "          dataTable['output_type'] = 'display_data';\n",
              "          await google.colab.output.renderOutput(dataTable, element);\n",
              "          const docLink = document.createElement('div');\n",
              "          docLink.innerHTML = docLinkHtml;\n",
              "          element.appendChild(docLink);\n",
              "        }\n",
              "      </script>\n",
              "    </div>\n",
              "  </div>\n",
              "  "
            ],
            "text/plain": [
              "   age        job  marital    education default housing loan    contact month  \\\n",
              "0   56  housemaid  married     basic.4y      no      no   no  telephone   may   \n",
              "1   57   services  married  high.school      no      no   no  telephone   may   \n",
              "2   37   services  married  high.school      no     yes   no  telephone   may   \n",
              "3   40     admin.  married     basic.6y      no      no   no  telephone   may   \n",
              "4   56   services  married  high.school      no      no  yes  telephone   may   \n",
              "\n",
              "  day_of_week  campaign  pdays  previous     poutcome  emp.var.rate  \\\n",
              "0         mon         1    999         0  nonexistent           1.1   \n",
              "1         mon         1    999         0  nonexistent           1.1   \n",
              "2         mon         1    999         0  nonexistent           1.1   \n",
              "3         mon         1    999         0  nonexistent           1.1   \n",
              "4         mon         1    999         0  nonexistent           1.1   \n",
              "\n",
              "   cons.price.idx  cons.conf.idx  euribor3m  nr.employed  y  \n",
              "0          93.994          -36.4      4.857       5191.0  0  \n",
              "1          93.994          -36.4      4.857       5191.0  0  \n",
              "2          93.994          -36.4      4.857       5191.0  0  \n",
              "3          93.994          -36.4      4.857       5191.0  0  \n",
              "4          93.994          -36.4      4.857       5191.0  0  "
            ]
          },
          "metadata": {},
          "execution_count": 22
        }
      ]
    },
    {
      "cell_type": "markdown",
      "source": [
        "#V. EDA"
      ],
      "metadata": {
        "id": "p6nE7JnQeiVS"
      }
    },
    {
      "cell_type": "code",
      "source": [
        "dfclean[dfclean['y'] == 1].describe()"
      ],
      "metadata": {
        "colab": {
          "base_uri": "https://localhost:8080/",
          "height": 300
        },
        "id": "GtHW3ZB6MNeZ",
        "outputId": "8301db3a-87ab-4f69-9745-3f038999d7fa"
      },
      "execution_count": null,
      "outputs": [
        {
          "output_type": "execute_result",
          "data": {
            "text/html": [
              "\n",
              "  <div id=\"df-b0dd19ba-8a5c-456c-8bef-c24c764805a3\">\n",
              "    <div class=\"colab-df-container\">\n",
              "      <div>\n",
              "<style scoped>\n",
              "    .dataframe tbody tr th:only-of-type {\n",
              "        vertical-align: middle;\n",
              "    }\n",
              "\n",
              "    .dataframe tbody tr th {\n",
              "        vertical-align: top;\n",
              "    }\n",
              "\n",
              "    .dataframe thead th {\n",
              "        text-align: right;\n",
              "    }\n",
              "</style>\n",
              "<table border=\"1\" class=\"dataframe\">\n",
              "  <thead>\n",
              "    <tr style=\"text-align: right;\">\n",
              "      <th></th>\n",
              "      <th>age</th>\n",
              "      <th>campaign</th>\n",
              "      <th>pdays</th>\n",
              "      <th>previous</th>\n",
              "      <th>emp.var.rate</th>\n",
              "      <th>cons.price.idx</th>\n",
              "      <th>cons.conf.idx</th>\n",
              "      <th>euribor3m</th>\n",
              "      <th>nr.employed</th>\n",
              "      <th>y</th>\n",
              "    </tr>\n",
              "  </thead>\n",
              "  <tbody>\n",
              "    <tr>\n",
              "      <th>count</th>\n",
              "      <td>4320.000000</td>\n",
              "      <td>4320.000000</td>\n",
              "      <td>4320.000000</td>\n",
              "      <td>4320.000000</td>\n",
              "      <td>4320.000000</td>\n",
              "      <td>4320.000000</td>\n",
              "      <td>4320.000000</td>\n",
              "      <td>4320.000000</td>\n",
              "      <td>4320.000000</td>\n",
              "      <td>4320.0</td>\n",
              "    </tr>\n",
              "    <tr>\n",
              "      <th>mean</th>\n",
              "      <td>40.767361</td>\n",
              "      <td>2.056944</td>\n",
              "      <td>794.633102</td>\n",
              "      <td>0.481713</td>\n",
              "      <td>-1.211088</td>\n",
              "      <td>93.356523</td>\n",
              "      <td>-39.842569</td>\n",
              "      <td>2.148146</td>\n",
              "      <td>5096.426505</td>\n",
              "      <td>1.0</td>\n",
              "    </tr>\n",
              "    <tr>\n",
              "      <th>std</th>\n",
              "      <td>13.443778</td>\n",
              "      <td>1.651088</td>\n",
              "      <td>401.535668</td>\n",
              "      <td>0.846189</td>\n",
              "      <td>1.629871</td>\n",
              "      <td>0.676833</td>\n",
              "      <td>6.143594</td>\n",
              "      <td>1.751382</td>\n",
              "      <td>87.778151</td>\n",
              "      <td>0.0</td>\n",
              "    </tr>\n",
              "    <tr>\n",
              "      <th>min</th>\n",
              "      <td>17.000000</td>\n",
              "      <td>1.000000</td>\n",
              "      <td>0.000000</td>\n",
              "      <td>0.000000</td>\n",
              "      <td>-3.400000</td>\n",
              "      <td>92.201000</td>\n",
              "      <td>-50.800000</td>\n",
              "      <td>0.634000</td>\n",
              "      <td>4963.600000</td>\n",
              "      <td>1.0</td>\n",
              "    </tr>\n",
              "    <tr>\n",
              "      <th>25%</th>\n",
              "      <td>31.000000</td>\n",
              "      <td>1.000000</td>\n",
              "      <td>999.000000</td>\n",
              "      <td>0.000000</td>\n",
              "      <td>-1.800000</td>\n",
              "      <td>92.893000</td>\n",
              "      <td>-46.200000</td>\n",
              "      <td>0.859000</td>\n",
              "      <td>5017.500000</td>\n",
              "      <td>1.0</td>\n",
              "    </tr>\n",
              "    <tr>\n",
              "      <th>50%</th>\n",
              "      <td>37.000000</td>\n",
              "      <td>2.000000</td>\n",
              "      <td>999.000000</td>\n",
              "      <td>0.000000</td>\n",
              "      <td>-1.800000</td>\n",
              "      <td>93.200000</td>\n",
              "      <td>-40.400000</td>\n",
              "      <td>1.266000</td>\n",
              "      <td>5099.100000</td>\n",
              "      <td>1.0</td>\n",
              "    </tr>\n",
              "    <tr>\n",
              "      <th>75%</th>\n",
              "      <td>49.000000</td>\n",
              "      <td>2.000000</td>\n",
              "      <td>999.000000</td>\n",
              "      <td>1.000000</td>\n",
              "      <td>-0.100000</td>\n",
              "      <td>93.918000</td>\n",
              "      <td>-36.100000</td>\n",
              "      <td>4.855000</td>\n",
              "      <td>5191.000000</td>\n",
              "      <td>1.0</td>\n",
              "    </tr>\n",
              "    <tr>\n",
              "      <th>max</th>\n",
              "      <td>98.000000</td>\n",
              "      <td>23.000000</td>\n",
              "      <td>999.000000</td>\n",
              "      <td>6.000000</td>\n",
              "      <td>1.400000</td>\n",
              "      <td>94.767000</td>\n",
              "      <td>-26.900000</td>\n",
              "      <td>5.045000</td>\n",
              "      <td>5228.100000</td>\n",
              "      <td>1.0</td>\n",
              "    </tr>\n",
              "  </tbody>\n",
              "</table>\n",
              "</div>\n",
              "      <button class=\"colab-df-convert\" onclick=\"convertToInteractive('df-b0dd19ba-8a5c-456c-8bef-c24c764805a3')\"\n",
              "              title=\"Convert this dataframe to an interactive table.\"\n",
              "              style=\"display:none;\">\n",
              "        \n",
              "  <svg xmlns=\"http://www.w3.org/2000/svg\" height=\"24px\"viewBox=\"0 0 24 24\"\n",
              "       width=\"24px\">\n",
              "    <path d=\"M0 0h24v24H0V0z\" fill=\"none\"/>\n",
              "    <path d=\"M18.56 5.44l.94 2.06.94-2.06 2.06-.94-2.06-.94-.94-2.06-.94 2.06-2.06.94zm-11 1L8.5 8.5l.94-2.06 2.06-.94-2.06-.94L8.5 2.5l-.94 2.06-2.06.94zm10 10l.94 2.06.94-2.06 2.06-.94-2.06-.94-.94-2.06-.94 2.06-2.06.94z\"/><path d=\"M17.41 7.96l-1.37-1.37c-.4-.4-.92-.59-1.43-.59-.52 0-1.04.2-1.43.59L10.3 9.45l-7.72 7.72c-.78.78-.78 2.05 0 2.83L4 21.41c.39.39.9.59 1.41.59.51 0 1.02-.2 1.41-.59l7.78-7.78 2.81-2.81c.8-.78.8-2.07 0-2.86zM5.41 20L4 18.59l7.72-7.72 1.47 1.35L5.41 20z\"/>\n",
              "  </svg>\n",
              "      </button>\n",
              "      \n",
              "  <style>\n",
              "    .colab-df-container {\n",
              "      display:flex;\n",
              "      flex-wrap:wrap;\n",
              "      gap: 12px;\n",
              "    }\n",
              "\n",
              "    .colab-df-convert {\n",
              "      background-color: #E8F0FE;\n",
              "      border: none;\n",
              "      border-radius: 50%;\n",
              "      cursor: pointer;\n",
              "      display: none;\n",
              "      fill: #1967D2;\n",
              "      height: 32px;\n",
              "      padding: 0 0 0 0;\n",
              "      width: 32px;\n",
              "    }\n",
              "\n",
              "    .colab-df-convert:hover {\n",
              "      background-color: #E2EBFA;\n",
              "      box-shadow: 0px 1px 2px rgba(60, 64, 67, 0.3), 0px 1px 3px 1px rgba(60, 64, 67, 0.15);\n",
              "      fill: #174EA6;\n",
              "    }\n",
              "\n",
              "    [theme=dark] .colab-df-convert {\n",
              "      background-color: #3B4455;\n",
              "      fill: #D2E3FC;\n",
              "    }\n",
              "\n",
              "    [theme=dark] .colab-df-convert:hover {\n",
              "      background-color: #434B5C;\n",
              "      box-shadow: 0px 1px 3px 1px rgba(0, 0, 0, 0.15);\n",
              "      filter: drop-shadow(0px 1px 2px rgba(0, 0, 0, 0.3));\n",
              "      fill: #FFFFFF;\n",
              "    }\n",
              "  </style>\n",
              "\n",
              "      <script>\n",
              "        const buttonEl =\n",
              "          document.querySelector('#df-b0dd19ba-8a5c-456c-8bef-c24c764805a3 button.colab-df-convert');\n",
              "        buttonEl.style.display =\n",
              "          google.colab.kernel.accessAllowed ? 'block' : 'none';\n",
              "\n",
              "        async function convertToInteractive(key) {\n",
              "          const element = document.querySelector('#df-b0dd19ba-8a5c-456c-8bef-c24c764805a3');\n",
              "          const dataTable =\n",
              "            await google.colab.kernel.invokeFunction('convertToInteractive',\n",
              "                                                     [key], {});\n",
              "          if (!dataTable) return;\n",
              "\n",
              "          const docLinkHtml = 'Like what you see? Visit the ' +\n",
              "            '<a target=\"_blank\" href=https://colab.research.google.com/notebooks/data_table.ipynb>data table notebook</a>'\n",
              "            + ' to learn more about interactive tables.';\n",
              "          element.innerHTML = '';\n",
              "          dataTable['output_type'] = 'display_data';\n",
              "          await google.colab.output.renderOutput(dataTable, element);\n",
              "          const docLink = document.createElement('div');\n",
              "          docLink.innerHTML = docLinkHtml;\n",
              "          element.appendChild(docLink);\n",
              "        }\n",
              "      </script>\n",
              "    </div>\n",
              "  </div>\n",
              "  "
            ],
            "text/plain": [
              "               age     campaign        pdays     previous  emp.var.rate  \\\n",
              "count  4320.000000  4320.000000  4320.000000  4320.000000   4320.000000   \n",
              "mean     40.767361     2.056944   794.633102     0.481713     -1.211088   \n",
              "std      13.443778     1.651088   401.535668     0.846189      1.629871   \n",
              "min      17.000000     1.000000     0.000000     0.000000     -3.400000   \n",
              "25%      31.000000     1.000000   999.000000     0.000000     -1.800000   \n",
              "50%      37.000000     2.000000   999.000000     0.000000     -1.800000   \n",
              "75%      49.000000     2.000000   999.000000     1.000000     -0.100000   \n",
              "max      98.000000    23.000000   999.000000     6.000000      1.400000   \n",
              "\n",
              "       cons.price.idx  cons.conf.idx    euribor3m  nr.employed       y  \n",
              "count     4320.000000    4320.000000  4320.000000  4320.000000  4320.0  \n",
              "mean        93.356523     -39.842569     2.148146  5096.426505     1.0  \n",
              "std          0.676833       6.143594     1.751382    87.778151     0.0  \n",
              "min         92.201000     -50.800000     0.634000  4963.600000     1.0  \n",
              "25%         92.893000     -46.200000     0.859000  5017.500000     1.0  \n",
              "50%         93.200000     -40.400000     1.266000  5099.100000     1.0  \n",
              "75%         93.918000     -36.100000     4.855000  5191.000000     1.0  \n",
              "max         94.767000     -26.900000     5.045000  5228.100000     1.0  "
            ]
          },
          "metadata": {},
          "execution_count": 23
        }
      ]
    },
    {
      "cell_type": "markdown",
      "source": [
        "dari describe secara keseluruhan terhadap kolom numerik dapat diambil kesimpulan:\n",
        "* umur termuda yang melakukan deposit adalah 17 tahun dan tertua adalah 98 tahun, \n",
        "*  rata rata yang melaukan term deposit ada di 40 tahun\n",
        "* dari campaign minimal 1 kali campaign untuk mendapatkan pelanggan deposit dan paling banyak 23 kali campaign untuk mendapat pelanggan deposit\n"
      ],
      "metadata": {
        "id": "Vs6t2WmUMSHZ"
      }
    },
    {
      "cell_type": "code",
      "source": [
        "plt.subplots(figsize=(12,5))\n",
        "plt.subplot(1,2,1)\n",
        "sns.histplot(x='age', hue='y', data=dfclean, kde=True, bins=40)\n",
        "plt.subplot(1,2,2)\n",
        "sns.histplot(x='age', hue='y', data=dfclean,stat=\"density\", common_norm=False, kde=True, bins=40)\n",
        "plt.show()"
      ],
      "metadata": {
        "colab": {
          "base_uri": "https://localhost:8080/",
          "height": 334
        },
        "id": "diO6vOhE_B80",
        "outputId": "4b5df86d-f4f9-416a-a274-a629b4609012"
      },
      "execution_count": null,
      "outputs": [
        {
          "output_type": "display_data",
          "data": {
            "image/png": "[encoded data removed]",
            "text/plain": [
              "<Figure size 864x360 with 2 Axes>"
            ]
          },
          "metadata": {
            "needs_background": "light"
          }
        }
      ]
    },
    {
      "cell_type": "code",
      "source": [
        "dfclean[dfclean['y'] == 1].astype('object').describe()"
      ],
      "metadata": {
        "colab": {
          "base_uri": "https://localhost:8080/",
          "height": 175
        },
        "id": "7PoG-tFqeoWv",
        "outputId": "82760e4b-51a2-494e-c66f-cdd6610a4e5b"
      },
      "execution_count": null,
      "outputs": [
        {
          "output_type": "execute_result",
          "data": {
            "text/html": [
              "\n",
              "  <div id=\"df-1541d208-6598-4861-9325-3cb7b4d86e92\">\n",
              "    <div class=\"colab-df-container\">\n",
              "      <div>\n",
              "<style scoped>\n",
              "    .dataframe tbody tr th:only-of-type {\n",
              "        vertical-align: middle;\n",
              "    }\n",
              "\n",
              "    .dataframe tbody tr th {\n",
              "        vertical-align: top;\n",
              "    }\n",
              "\n",
              "    .dataframe thead th {\n",
              "        text-align: right;\n",
              "    }\n",
              "</style>\n",
              "<table border=\"1\" class=\"dataframe\">\n",
              "  <thead>\n",
              "    <tr style=\"text-align: right;\">\n",
              "      <th></th>\n",
              "      <th>age</th>\n",
              "      <th>job</th>\n",
              "      <th>marital</th>\n",
              "      <th>education</th>\n",
              "      <th>default</th>\n",
              "      <th>housing</th>\n",
              "      <th>loan</th>\n",
              "      <th>contact</th>\n",
              "      <th>month</th>\n",
              "      <th>day_of_week</th>\n",
              "      <th>campaign</th>\n",
              "      <th>pdays</th>\n",
              "      <th>previous</th>\n",
              "      <th>poutcome</th>\n",
              "      <th>emp.var.rate</th>\n",
              "      <th>cons.price.idx</th>\n",
              "      <th>cons.conf.idx</th>\n",
              "      <th>euribor3m</th>\n",
              "      <th>nr.employed</th>\n",
              "      <th>y</th>\n",
              "    </tr>\n",
              "  </thead>\n",
              "  <tbody>\n",
              "    <tr>\n",
              "      <th>count</th>\n",
              "      <td>4320</td>\n",
              "      <td>4320</td>\n",
              "      <td>4320</td>\n",
              "      <td>4320</td>\n",
              "      <td>4320</td>\n",
              "      <td>4320</td>\n",
              "      <td>4320</td>\n",
              "      <td>4320</td>\n",
              "      <td>4320</td>\n",
              "      <td>4320</td>\n",
              "      <td>4320</td>\n",
              "      <td>4320</td>\n",
              "      <td>4320</td>\n",
              "      <td>4320</td>\n",
              "      <td>4320.0</td>\n",
              "      <td>4320.000</td>\n",
              "      <td>4320.0</td>\n",
              "      <td>4320.000</td>\n",
              "      <td>4320.0</td>\n",
              "      <td>4320</td>\n",
              "    </tr>\n",
              "    <tr>\n",
              "      <th>unique</th>\n",
              "      <td>74</td>\n",
              "      <td>11</td>\n",
              "      <td>3</td>\n",
              "      <td>7</td>\n",
              "      <td>1</td>\n",
              "      <td>2</td>\n",
              "      <td>2</td>\n",
              "      <td>2</td>\n",
              "      <td>10</td>\n",
              "      <td>5</td>\n",
              "      <td>17</td>\n",
              "      <td>26</td>\n",
              "      <td>7</td>\n",
              "      <td>3</td>\n",
              "      <td>10.0</td>\n",
              "      <td>26.000</td>\n",
              "      <td>26.0</td>\n",
              "      <td>287.000</td>\n",
              "      <td>11.0</td>\n",
              "      <td>1</td>\n",
              "    </tr>\n",
              "    <tr>\n",
              "      <th>top</th>\n",
              "      <td>31</td>\n",
              "      <td>admin.</td>\n",
              "      <td>married</td>\n",
              "      <td>university.degree</td>\n",
              "      <td>no</td>\n",
              "      <td>yes</td>\n",
              "      <td>no</td>\n",
              "      <td>cellular</td>\n",
              "      <td>may</td>\n",
              "      <td>thu</td>\n",
              "      <td>1</td>\n",
              "      <td>999</td>\n",
              "      <td>0</td>\n",
              "      <td>nonexistent</td>\n",
              "      <td>-1.8</td>\n",
              "      <td>92.893</td>\n",
              "      <td>-46.2</td>\n",
              "      <td>4.962</td>\n",
              "      <td>5099.1</td>\n",
              "      <td>1</td>\n",
              "    </tr>\n",
              "    <tr>\n",
              "      <th>freq</th>\n",
              "      <td>207</td>\n",
              "      <td>1295</td>\n",
              "      <td>2384</td>\n",
              "      <td>1635</td>\n",
              "      <td>4320</td>\n",
              "      <td>2427</td>\n",
              "      <td>3682</td>\n",
              "      <td>3583</td>\n",
              "      <td>844</td>\n",
              "      <td>981</td>\n",
              "      <td>2121</td>\n",
              "      <td>3431</td>\n",
              "      <td>2944</td>\n",
              "      <td>2944</td>\n",
              "      <td>1355.0</td>\n",
              "      <td>507.000</td>\n",
              "      <td>507.0</td>\n",
              "      <td>135.000</td>\n",
              "      <td>1029.0</td>\n",
              "      <td>4320</td>\n",
              "    </tr>\n",
              "  </tbody>\n",
              "</table>\n",
              "</div>\n",
              "      <button class=\"colab-df-convert\" onclick=\"convertToInteractive('df-1541d208-6598-4861-9325-3cb7b4d86e92')\"\n",
              "              title=\"Convert this dataframe to an interactive table.\"\n",
              "              style=\"display:none;\">\n",
              "        \n",
              "  <svg xmlns=\"http://www.w3.org/2000/svg\" height=\"24px\"viewBox=\"0 0 24 24\"\n",
              "       width=\"24px\">\n",
              "    <path d=\"M0 0h24v24H0V0z\" fill=\"none\"/>\n",
              "    <path d=\"M18.56 5.44l.94 2.06.94-2.06 2.06-.94-2.06-.94-.94-2.06-.94 2.06-2.06.94zm-11 1L8.5 8.5l.94-2.06 2.06-.94-2.06-.94L8.5 2.5l-.94 2.06-2.06.94zm10 10l.94 2.06.94-2.06 2.06-.94-2.06-.94-.94-2.06-.94 2.06-2.06.94z\"/><path d=\"M17.41 7.96l-1.37-1.37c-.4-.4-.92-.59-1.43-.59-.52 0-1.04.2-1.43.59L10.3 9.45l-7.72 7.72c-.78.78-.78 2.05 0 2.83L4 21.41c.39.39.9.59 1.41.59.51 0 1.02-.2 1.41-.59l7.78-7.78 2.81-2.81c.8-.78.8-2.07 0-2.86zM5.41 20L4 18.59l7.72-7.72 1.47 1.35L5.41 20z\"/>\n",
              "  </svg>\n",
              "      </button>\n",
              "      \n",
              "  <style>\n",
              "    .colab-df-container {\n",
              "      display:flex;\n",
              "      flex-wrap:wrap;\n",
              "      gap: 12px;\n",
              "    }\n",
              "\n",
              "    .colab-df-convert {\n",
              "      background-color: #E8F0FE;\n",
              "      border: none;\n",
              "      border-radius: 50%;\n",
              "      cursor: pointer;\n",
              "      display: none;\n",
              "      fill: #1967D2;\n",
              "      height: 32px;\n",
              "      padding: 0 0 0 0;\n",
              "      width: 32px;\n",
              "    }\n",
              "\n",
              "    .colab-df-convert:hover {\n",
              "      background-color: #E2EBFA;\n",
              "      box-shadow: 0px 1px 2px rgba(60, 64, 67, 0.3), 0px 1px 3px 1px rgba(60, 64, 67, 0.15);\n",
              "      fill: #174EA6;\n",
              "    }\n",
              "\n",
              "    [theme=dark] .colab-df-convert {\n",
              "      background-color: #3B4455;\n",
              "      fill: #D2E3FC;\n",
              "    }\n",
              "\n",
              "    [theme=dark] .colab-df-convert:hover {\n",
              "      background-color: #434B5C;\n",
              "      box-shadow: 0px 1px 3px 1px rgba(0, 0, 0, 0.15);\n",
              "      filter: drop-shadow(0px 1px 2px rgba(0, 0, 0, 0.3));\n",
              "      fill: #FFFFFF;\n",
              "    }\n",
              "  </style>\n",
              "\n",
              "      <script>\n",
              "        const buttonEl =\n",
              "          document.querySelector('#df-1541d208-6598-4861-9325-3cb7b4d86e92 button.colab-df-convert');\n",
              "        buttonEl.style.display =\n",
              "          google.colab.kernel.accessAllowed ? 'block' : 'none';\n",
              "\n",
              "        async function convertToInteractive(key) {\n",
              "          const element = document.querySelector('#df-1541d208-6598-4861-9325-3cb7b4d86e92');\n",
              "          const dataTable =\n",
              "            await google.colab.kernel.invokeFunction('convertToInteractive',\n",
              "                                                     [key], {});\n",
              "          if (!dataTable) return;\n",
              "\n",
              "          const docLinkHtml = 'Like what you see? Visit the ' +\n",
              "            '<a target=\"_blank\" href=https://colab.research.google.com/notebooks/data_table.ipynb>data table notebook</a>'\n",
              "            + ' to learn more about interactive tables.';\n",
              "          element.innerHTML = '';\n",
              "          dataTable['output_type'] = 'display_data';\n",
              "          await google.colab.output.renderOutput(dataTable, element);\n",
              "          const docLink = document.createElement('div');\n",
              "          docLink.innerHTML = docLinkHtml;\n",
              "          element.appendChild(docLink);\n",
              "        }\n",
              "      </script>\n",
              "    </div>\n",
              "  </div>\n",
              "  "
            ],
            "text/plain": [
              "         age     job  marital          education default housing  loan  \\\n",
              "count   4320    4320     4320               4320    4320    4320  4320   \n",
              "unique    74      11        3                  7       1       2     2   \n",
              "top       31  admin.  married  university.degree      no     yes    no   \n",
              "freq     207    1295     2384               1635    4320    2427  3682   \n",
              "\n",
              "         contact month day_of_week  campaign  pdays  previous     poutcome  \\\n",
              "count       4320  4320        4320      4320   4320      4320         4320   \n",
              "unique         2    10           5        17     26         7            3   \n",
              "top     cellular   may         thu         1    999         0  nonexistent   \n",
              "freq        3583   844         981      2121   3431      2944         2944   \n",
              "\n",
              "        emp.var.rate  cons.price.idx  cons.conf.idx  euribor3m  nr.employed  \\\n",
              "count         4320.0        4320.000         4320.0   4320.000       4320.0   \n",
              "unique          10.0          26.000           26.0    287.000         11.0   \n",
              "top             -1.8          92.893          -46.2      4.962       5099.1   \n",
              "freq          1355.0         507.000          507.0    135.000       1029.0   \n",
              "\n",
              "           y  \n",
              "count   4320  \n",
              "unique     1  \n",
              "top        1  \n",
              "freq    4320  "
            ]
          },
          "metadata": {},
          "execution_count": 24
        }
      ]
    },
    {
      "cell_type": "markdown",
      "source": [
        "dari describe data kategorical yang melakukan deposit dapat diambil kesimpulan: \n",
        "*  job terbanyak adalah admin\n",
        "* marital status terbanyak adalah married\n",
        "* education degree terbanyak adalah university degree"
      ],
      "metadata": {
        "id": "wH0CimAhMxL-"
      }
    },
    {
      "cell_type": "code",
      "source": [
        "f,ax=plt.subplots(1,2,figsize=(25,8))\n",
        "colors=[\"#F08080\", \"#00FA9A\"]\n",
        "labels = 'Refused a Term Deposit', 'Accepted a Term Deposit'\n",
        "dfclean['y'].value_counts().plot.pie(explode=[0,0.1],autopct='%1.1f%%',ax=ax[0],shadow=True, colors=colors, labels=labels,fontsize=14)\n",
        "ax[0].set_title('Term Deposits', fontsize=20)\n",
        "sns.countplot('y',data=dfclean,ax=ax[1], palette=colors)\n",
        "ax[1].set_title('Term Deposits', fontsize=20)\n",
        "ax[1].set_xticklabels(['Refused', 'Accepted'], fontsize=14)\n",
        "plt.show()"
      ],
      "metadata": {
        "colab": {
          "base_uri": "https://localhost:8080/",
          "height": 577
        },
        "id": "0lu2p6KaOWMq",
        "outputId": "4149e025-37ec-4625-e972-a9790d8a6dc9"
      },
      "execution_count": null,
      "outputs": [
        {
          "output_type": "stream",
          "name": "stderr",
          "text": [
            "/usr/local/lib/python3.7/dist-packages/seaborn/_decorators.py:43: FutureWarning: Pass the following variable as a keyword arg: x. From version 0.12, the only valid positional argument will be `data`, and passing other arguments without an explicit keyword will result in an error or misinterpretation.\n",
            "  FutureWarning\n"
          ]
        },
        {
          "output_type": "display_data",
          "data": {
            "image/png": "[encoded data removed]",
            "text/plain": [
              "<Figure size 1800x576 with 2 Axes>"
            ]
          },
          "metadata": {
            "needs_background": "light"
          }
        }
      ]
    },
    {
      "cell_type": "markdown",
      "source": [
        "* Dari keseluruhan data banyak yang menolak term deposit "
      ],
      "metadata": {
        "id": "_v4K0fWHSxS8"
      }
    },
    {
      "cell_type": "code",
      "source": [
        "#heatmap untuk pengecekan correlation\n",
        "plt.figure(figsize=(20, 10))\n",
        "sns.heatmap(dfclean.corr().abs(),  annot=True)\n",
        "plt.show()"
      ],
      "metadata": {
        "colab": {
          "base_uri": "https://localhost:8080/",
          "height": 596
        },
        "id": "e2UbGNo6OaWJ",
        "outputId": "42e4f7fc-1cca-4749-cc73-8502e1291f46"
      },
      "execution_count": null,
      "outputs": [
        {
          "output_type": "display_data",
          "data": {
            "image/png": "[encoded data removed]",
            "text/plain": [
              "<Figure size 1440x720 with 2 Axes>"
            ]
          },
          "metadata": {
            "needs_background": "light"
          }
        }
      ]
    },
    {
      "cell_type": "markdown",
      "source": [
        "* Korelasi tertinggi terhadap kolom y ada pada kolom nr.employed dan terendah ada pada age"
      ],
      "metadata": {
        "id": "F0KwnnXAVptB"
      }
    },
    {
      "cell_type": "markdown",
      "source": [
        "#VI. Data Preprocessing"
      ],
      "metadata": {
        "id": "9RjWXpzvepEx"
      }
    },
    {
      "cell_type": "code",
      "source": [
        "X = dfclean.drop('y', axis = 1) #Fitur\n",
        "y = dfclean['y'] #Target"
      ],
      "metadata": {
        "id": "AotN4rxWfym1"
      },
      "execution_count": null,
      "outputs": []
    },
    {
      "cell_type": "code",
      "source": [
        "#Split Data menjadi 3 bagian\n",
        "X1, X_test, y1, y_test = train_test_split(X, y, test_size=0.2, random_state=42)\n",
        "X_train, X_val, y_train, y_val = train_test_split(X1, y1, test_size = 0.3, random_state = 42)\n",
        "\n",
        "print('Presentase untuk data training   :', '%.2f' % ((len(X_train)/len(X))*100), '%')\n",
        "print('Presentase untuk data evaluation :', '%.2f' % ((len(X_val)/len(X))*100), '%')\n",
        "print('Presentase untuk data test       :', '%.2f' % ((len(X_test)/len(X))*100), '%')\n",
        "print()\n",
        "\n",
        "print('Jumlah data training  :', X_train.shape[0])\n",
        "print('Jumlah data validation:', X_val.shape[0])\n",
        "print('Jumlah data test      :', X_test.shape[0])"
      ],
      "metadata": {
        "colab": {
          "base_uri": "https://localhost:8080/"
        },
        "id": "rGpFR3_6f4R2",
        "outputId": "3a2f2d35-8547-4f61-a47c-8fb5fb0b4cc2"
      },
      "execution_count": null,
      "outputs": [
        {
          "output_type": "stream",
          "name": "stdout",
          "text": [
            "Presentase untuk data training   : 56.00 %\n",
            "Presentase untuk data evaluation : 24.00 %\n",
            "Presentase untuk data test       : 20.00 %\n",
            "\n",
            "Jumlah data training  : 20974\n",
            "Jumlah data validation: 8990\n",
            "Jumlah data test      : 7491\n"
          ]
        }
      ]
    },
    {
      "cell_type": "markdown",
      "source": [
        "##Transform Data"
      ],
      "metadata": {
        "id": "0Ej-7DMr1GSx"
      }
    },
    {
      "cell_type": "code",
      "source": [
        "class OldDataFrameSelector(BaseEstimator, TransformerMixin):\n",
        "    def __init__(self, attribute_names):\n",
        "        self.attribute_names = attribute_names\n",
        "    def fit(self, X, y=None):\n",
        "        return self\n",
        "    def transform(self, X):\n",
        "        return X[self.attribute_names]"
      ],
      "metadata": {
        "id": "JFSE8dBlgkYF"
      },
      "execution_count": null,
      "outputs": []
    },
    {
      "cell_type": "code",
      "source": [
        "# Membuat pipeline untuk kolom numerik\n",
        "numerical_pipeline = Pipeline([\n",
        "    ('select_numeric', OldDataFrameSelector(['age', 'campaign', 'pdays', 'previous', 'emp.var.rate', 'cons.price.idx', 'cons.conf.idx',\n",
        "                                            'euribor3m', 'nr.employed'])),\n",
        "    ('scaler', MinMaxScaler()),\n",
        "])\n",
        "\n",
        "# Membuat pipeline untuk kolom kategorikal\n",
        "categorical_pipeline = Pipeline([\n",
        "    ('select_cat', OldDataFrameSelector(['job', 'marital', 'education', 'default','housing','loan', 'contact',\n",
        "                                        'month', 'day_of_week', 'poutcome'])),\n",
        "    ('cat_encoder', OneHotEncoder(sparse=False))\n",
        "])\n",
        "\n",
        "# Menggabungkan kedua pipelines\n",
        "preprocess_pipeline = FeatureUnion(transformer_list=[\n",
        "        ('numerical_pipeline', numerical_pipeline),\n",
        "        ('categorical_pipeline', categorical_pipeline),\n",
        "    ])"
      ],
      "metadata": {
        "id": "N0V8LdyUgqLk"
      },
      "execution_count": null,
      "outputs": []
    },
    {
      "cell_type": "code",
      "source": [
        "X_train = preprocess_pipeline.fit_transform(X_train)\n",
        "X_train"
      ],
      "metadata": {
        "colab": {
          "base_uri": "https://localhost:8080/"
        },
        "id": "VsprtJ7rh5q0",
        "outputId": "00c015ef-e7eb-43b6-eab7-c8abdbcc9bd0"
      },
      "execution_count": null,
      "outputs": [
        {
          "output_type": "execute_result",
          "data": {
            "text/plain": [
              "array([[0.25925926, 0.03636364, 1.        , ..., 0.        , 1.        ,\n",
              "        0.        ],\n",
              "       [0.19753086, 0.10909091, 1.        , ..., 0.        , 1.        ,\n",
              "        0.        ],\n",
              "       [0.49382716, 0.        , 1.        , ..., 0.        , 1.        ,\n",
              "        0.        ],\n",
              "       ...,\n",
              "       [0.17283951, 0.        , 1.        , ..., 0.        , 1.        ,\n",
              "        0.        ],\n",
              "       [0.25925926, 0.        , 1.        , ..., 0.        , 1.        ,\n",
              "        0.        ],\n",
              "       [0.09876543, 0.01818182, 1.        , ..., 0.        , 1.        ,\n",
              "        0.        ]])"
            ]
          },
          "metadata": {},
          "execution_count": 48
        }
      ]
    },
    {
      "cell_type": "code",
      "source": [
        "X_val = preprocess_pipeline.fit_transform(X_val)\n",
        "X_val"
      ],
      "metadata": {
        "colab": {
          "base_uri": "https://localhost:8080/"
        },
        "id": "vDRcQZZQYrKH",
        "outputId": "fab90fb8-a9f1-42fc-de67-d6b8016f2573"
      },
      "execution_count": null,
      "outputs": [
        {
          "output_type": "execute_result",
          "data": {
            "text/plain": [
              "array([[0.33802817, 0.2       , 1.        , ..., 0.        , 1.        ,\n",
              "        0.        ],\n",
              "       [0.47887324, 0.25      , 1.        , ..., 0.        , 1.        ,\n",
              "        0.        ],\n",
              "       [0.1971831 , 0.05      , 1.        , ..., 0.        , 1.        ,\n",
              "        0.        ],\n",
              "       ...,\n",
              "       [0.57746479, 0.15      , 1.        , ..., 0.        , 1.        ,\n",
              "        0.        ],\n",
              "       [0.18309859, 0.1       , 1.        , ..., 0.        , 1.        ,\n",
              "        0.        ],\n",
              "       [0.49295775, 0.025     , 1.        , ..., 0.        , 1.        ,\n",
              "        0.        ]])"
            ]
          },
          "metadata": {},
          "execution_count": 49
        }
      ]
    },
    {
      "cell_type": "code",
      "source": [
        "X_test = preprocess_pipeline.fit_transform(X_test)\n",
        "X_test"
      ],
      "metadata": {
        "colab": {
          "base_uri": "https://localhost:8080/"
        },
        "id": "35nHl1hwCoi8",
        "outputId": "8d8a18b8-bd3a-4caf-a25f-f489bc37ecb2"
      },
      "execution_count": null,
      "outputs": [
        {
          "output_type": "execute_result",
          "data": {
            "text/plain": [
              "array([[0.11538462, 0.14285714, 1.        , ..., 0.        , 1.        ,\n",
              "        0.        ],\n",
              "       [0.53846154, 0.04761905, 1.        , ..., 0.        , 1.        ,\n",
              "        0.        ],\n",
              "       [0.15384615, 0.        , 1.        , ..., 0.        , 1.        ,\n",
              "        0.        ],\n",
              "       ...,\n",
              "       [0.34615385, 0.        , 1.        , ..., 0.        , 1.        ,\n",
              "        0.        ],\n",
              "       [0.1025641 , 0.        , 1.        , ..., 0.        , 1.        ,\n",
              "        0.        ],\n",
              "       [0.28205128, 0.02380952, 1.        , ..., 0.        , 1.        ,\n",
              "        0.        ]])"
            ]
          },
          "metadata": {},
          "execution_count": 50
        }
      ]
    },
    {
      "cell_type": "markdown",
      "source": [
        "#VII. Pendefisian Model"
      ],
      "metadata": {
        "id": "sUhydRzTiV-E"
      }
    },
    {
      "cell_type": "markdown",
      "source": [
        "##GridSearch Hyperparameter Tuning"
      ],
      "metadata": {
        "id": "w4PGSDP8iQtK"
      }
    },
    {
      "cell_type": "markdown",
      "source": [
        "###Logistic Regression"
      ],
      "metadata": {
        "id": "JOBKPqeOid1U"
      }
    },
    {
      "cell_type": "code",
      "source": [
        "params = {\n",
        "    'C': [0.01, 0.1, 0.5],\n",
        "    'penalty': ['l1', 'l2'],\n",
        "    'solver': ['lbfgs', 'liblinear']\n",
        "}\n",
        "\n",
        "\n",
        "model_lr = LogisticRegression(random_state = 42)\n",
        "lr_search = GridSearchCV(model_lr, params, cv = 5, scoring = 'roc_auc', return_train_score=True)\n",
        "%time lr_search.fit(X_train, y_train)"
      ],
      "metadata": {
        "colab": {
          "base_uri": "https://localhost:8080/"
        },
        "id": "NIoCFyWfh_CM",
        "outputId": "71ef0c7f-7698-4285-ea3c-d8b20bcbff45"
      },
      "execution_count": null,
      "outputs": [
        {
          "output_type": "stream",
          "name": "stderr",
          "text": [
            "/usr/local/lib/python3.7/dist-packages/sklearn/linear_model/_logistic.py:818: ConvergenceWarning: lbfgs failed to converge (status=1):\n",
            "STOP: TOTAL NO. of ITERATIONS REACHED LIMIT.\n",
            "\n",
            "Increase the number of iterations (max_iter) or scale the data as shown in:\n",
            "    https://scikit-learn.org/stable/modules/preprocessing.html\n",
            "Please also refer to the documentation for alternative solver options:\n",
            "    https://scikit-learn.org/stable/modules/linear_model.html#logistic-regression\n",
            "  extra_warning_msg=_LOGISTIC_SOLVER_CONVERGENCE_MSG,\n",
            "/usr/local/lib/python3.7/dist-packages/sklearn/linear_model/_logistic.py:818: ConvergenceWarning: lbfgs failed to converge (status=1):\n",
            "STOP: TOTAL NO. of ITERATIONS REACHED LIMIT.\n",
            "\n",
            "Increase the number of iterations (max_iter) or scale the data as shown in:\n",
            "    https://scikit-learn.org/stable/modules/preprocessing.html\n",
            "Please also refer to the documentation for alternative solver options:\n",
            "    https://scikit-learn.org/stable/modules/linear_model.html#logistic-regression\n",
            "  extra_warning_msg=_LOGISTIC_SOLVER_CONVERGENCE_MSG,\n",
            "/usr/local/lib/python3.7/dist-packages/sklearn/linear_model/_logistic.py:818: ConvergenceWarning: lbfgs failed to converge (status=1):\n",
            "STOP: TOTAL NO. of ITERATIONS REACHED LIMIT.\n",
            "\n",
            "Increase the number of iterations (max_iter) or scale the data as shown in:\n",
            "    https://scikit-learn.org/stable/modules/preprocessing.html\n",
            "Please also refer to the documentation for alternative solver options:\n",
            "    https://scikit-learn.org/stable/modules/linear_model.html#logistic-regression\n",
            "  extra_warning_msg=_LOGISTIC_SOLVER_CONVERGENCE_MSG,\n",
            "/usr/local/lib/python3.7/dist-packages/sklearn/linear_model/_logistic.py:818: ConvergenceWarning: lbfgs failed to converge (status=1):\n",
            "STOP: TOTAL NO. of ITERATIONS REACHED LIMIT.\n",
            "\n",
            "Increase the number of iterations (max_iter) or scale the data as shown in:\n",
            "    https://scikit-learn.org/stable/modules/preprocessing.html\n",
            "Please also refer to the documentation for alternative solver options:\n",
            "    https://scikit-learn.org/stable/modules/linear_model.html#logistic-regression\n",
            "  extra_warning_msg=_LOGISTIC_SOLVER_CONVERGENCE_MSG,\n",
            "/usr/local/lib/python3.7/dist-packages/sklearn/linear_model/_logistic.py:818: ConvergenceWarning: lbfgs failed to converge (status=1):\n",
            "STOP: TOTAL NO. of ITERATIONS REACHED LIMIT.\n",
            "\n",
            "Increase the number of iterations (max_iter) or scale the data as shown in:\n",
            "    https://scikit-learn.org/stable/modules/preprocessing.html\n",
            "Please also refer to the documentation for alternative solver options:\n",
            "    https://scikit-learn.org/stable/modules/linear_model.html#logistic-regression\n",
            "  extra_warning_msg=_LOGISTIC_SOLVER_CONVERGENCE_MSG,\n",
            "/usr/local/lib/python3.7/dist-packages/sklearn/model_selection/_validation.py:372: FitFailedWarning: \n",
            "15 fits failed out of a total of 60.\n",
            "The score on these train-test partitions for these parameters will be set to nan.\n",
            "If these failures are not expected, you can try to debug them by setting error_score='raise'.\n",
            "\n",
            "Below are more details about the failures:\n",
            "--------------------------------------------------------------------------------\n",
            "15 fits failed with the following error:\n",
            "Traceback (most recent call last):\n",
            "  File \"/usr/local/lib/python3.7/dist-packages/sklearn/model_selection/_validation.py\", line 681, in _fit_and_score\n",
            "    estimator.fit(X_train, y_train, **fit_params)\n",
            "  File \"/usr/local/lib/python3.7/dist-packages/sklearn/linear_model/_logistic.py\", line 1461, in fit\n",
            "    solver = _check_solver(self.solver, self.penalty, self.dual)\n",
            "  File \"/usr/local/lib/python3.7/dist-packages/sklearn/linear_model/_logistic.py\", line 449, in _check_solver\n",
            "    % (solver, penalty)\n",
            "ValueError: Solver lbfgs supports only 'l2' or 'none' penalties, got l1 penalty.\n",
            "\n",
            "  warnings.warn(some_fits_failed_message, FitFailedWarning)\n",
            "/usr/local/lib/python3.7/dist-packages/sklearn/model_selection/_search.py:972: UserWarning: One or more of the test scores are non-finite: [       nan 0.77785615 0.78272149 0.7827574         nan 0.78484562\n",
            " 0.78524416 0.78525935        nan 0.7886163  0.78701808 0.78701111]\n",
            "  category=UserWarning,\n",
            "/usr/local/lib/python3.7/dist-packages/sklearn/model_selection/_search.py:972: UserWarning: One or more of the train scores are non-finite: [       nan 0.77827297 0.78597451 0.78600521        nan 0.78812871\n",
            " 0.79053624 0.79054417        nan 0.79388374 0.79294978 0.79294673]\n",
            "  category=UserWarning,\n"
          ]
        },
        {
          "output_type": "stream",
          "name": "stdout",
          "text": [
            "CPU times: user 15.1 s, sys: 5.9 s, total: 21 s\n",
            "Wall time: 13.8 s\n"
          ]
        },
        {
          "output_type": "execute_result",
          "data": {
            "text/plain": [
              "GridSearchCV(cv=5, estimator=LogisticRegression(random_state=42),\n",
              "             param_grid={'C': [0.01, 0.1, 0.5], 'penalty': ['l1', 'l2'],\n",
              "                         'solver': ['lbfgs', 'liblinear']},\n",
              "             return_train_score=True, scoring='roc_auc')"
            ]
          },
          "metadata": {},
          "execution_count": 51
        }
      ]
    },
    {
      "cell_type": "code",
      "source": [
        "print(\"Best score accuracy: {:.2f}\".format(lr_search.best_score_))\n",
        "print(\"Best parameters: {}\".format(lr_search.best_params_))"
      ],
      "metadata": {
        "colab": {
          "base_uri": "https://localhost:8080/"
        },
        "id": "FiIr4KyAjMad",
        "outputId": "b16448d3-4eba-4816-df84-83c200599475"
      },
      "execution_count": null,
      "outputs": [
        {
          "output_type": "stream",
          "name": "stdout",
          "text": [
            "Best score accuracy: 0.79\n",
            "Best parameters: {'C': 0.5, 'penalty': 'l1', 'solver': 'liblinear'}\n"
          ]
        }
      ]
    },
    {
      "cell_type": "code",
      "source": [
        "lr_best= lr_search.best_estimator_\n",
        "lr_best"
      ],
      "metadata": {
        "colab": {
          "base_uri": "https://localhost:8080/"
        },
        "id": "5MajI8cljSEt",
        "outputId": "fef8780a-30ea-4731-e034-006e32cbeca7"
      },
      "execution_count": null,
      "outputs": [
        {
          "output_type": "execute_result",
          "data": {
            "text/plain": [
              "LogisticRegression(C=0.5, penalty='l1', random_state=42, solver='liblinear')"
            ]
          },
          "metadata": {},
          "execution_count": 53
        }
      ]
    },
    {
      "cell_type": "markdown",
      "source": [
        "### SVM"
      ],
      "metadata": {
        "id": "AoX9rmqWjlbx"
      }
    },
    {
      "cell_type": "code",
      "source": [
        "params = {\n",
        "    'C': [0.5, 1.0]\n",
        "}\n",
        "\n",
        "\n",
        "model_svm = SVC(kernel='rbf', random_state = 42)\n",
        "svm_search = GridSearchCV(model_svm, params, cv = 5, scoring = 'roc_auc', return_train_score=True)\n",
        "%time svm_search.fit(X_train, y_train)"
      ],
      "metadata": {
        "colab": {
          "base_uri": "https://localhost:8080/"
        },
        "id": "w6u_vf0hjeJv",
        "outputId": "2e68cdf2-1521-46e9-96f9-bfc1caca175c"
      },
      "execution_count": null,
      "outputs": [
        {
          "output_type": "stream",
          "name": "stdout",
          "text": [
            "CPU times: user 4min 16s, sys: 949 ms, total: 4min 17s\n",
            "Wall time: 4min 24s\n"
          ]
        },
        {
          "output_type": "execute_result",
          "data": {
            "text/plain": [
              "GridSearchCV(cv=5, estimator=SVC(random_state=42), param_grid={'C': [0.5, 1.0]},\n",
              "             return_train_score=True, scoring='roc_auc')"
            ]
          },
          "metadata": {},
          "execution_count": 54
        }
      ]
    },
    {
      "cell_type": "code",
      "source": [
        "print(\"Best score accuracy: {:.2f}\".format(svm_search.best_score_))\n",
        "print(\"Best parameters: {}\".format(svm_search.best_params_))"
      ],
      "metadata": {
        "colab": {
          "base_uri": "https://localhost:8080/"
        },
        "id": "jJD-kqnCvByB",
        "outputId": "45757967-87fa-4dd4-a919-eec8b8c31b02"
      },
      "execution_count": null,
      "outputs": [
        {
          "output_type": "stream",
          "name": "stdout",
          "text": [
            "Best score accuracy: 0.71\n",
            "Best parameters: {'C': 0.5}\n"
          ]
        }
      ]
    },
    {
      "cell_type": "code",
      "source": [
        "svm_best= svm_search.best_estimator_\n",
        "svm_best"
      ],
      "metadata": {
        "colab": {
          "base_uri": "https://localhost:8080/"
        },
        "id": "nuJuKMjCvEne",
        "outputId": "3edb61db-ad20-4b44-d63d-9c7a8f12b185"
      },
      "execution_count": null,
      "outputs": [
        {
          "output_type": "execute_result",
          "data": {
            "text/plain": [
              "SVC(C=0.5, random_state=42)"
            ]
          },
          "metadata": {},
          "execution_count": 56
        }
      ]
    },
    {
      "cell_type": "markdown",
      "source": [
        "###Decision Tree"
      ],
      "metadata": {
        "id": "SdU0_whX2D-V"
      }
    },
    {
      "cell_type": "code",
      "source": [
        "params = {\n",
        "    'criterion':['gini','entropy'],\n",
        "    'max_depth': [10, 50, 100],\n",
        "    'min_samples_split': [5, 25, 100],\n",
        "    'min_samples_leaf' : [1, 10, 30],\n",
        "    'max_features': ['auto', 'log2']\n",
        "}\n",
        "\n",
        "\n",
        "model_dt = DecisionTreeClassifier(random_state = 42)\n",
        "dt_search = GridSearchCV(model_dt, params, cv = 5, scoring ='roc_auc', return_train_score=True)\n",
        "%time dt_search.fit(X_train, y_train)"
      ],
      "metadata": {
        "colab": {
          "base_uri": "https://localhost:8080/"
        },
        "id": "6Wbg-nhj2H6O",
        "outputId": "a7fb4766-d0c5-4f1f-c580-f30731d54b75"
      },
      "execution_count": null,
      "outputs": [
        {
          "output_type": "stream",
          "name": "stdout",
          "text": [
            "CPU times: user 20.7 s, sys: 226 ms, total: 20.9 s\n",
            "Wall time: 21 s\n"
          ]
        },
        {
          "output_type": "execute_result",
          "data": {
            "text/plain": [
              "GridSearchCV(cv=5, estimator=DecisionTreeClassifier(random_state=42),\n",
              "             param_grid={'criterion': ['gini', 'entropy'],\n",
              "                         'max_depth': [10, 50, 100],\n",
              "                         'max_features': ['auto', 'log2'],\n",
              "                         'min_samples_leaf': [1, 10, 30],\n",
              "                         'min_samples_split': [5, 25, 100]},\n",
              "             return_train_score=True, scoring='roc_auc')"
            ]
          },
          "metadata": {},
          "execution_count": 57
        }
      ]
    },
    {
      "cell_type": "code",
      "source": [
        "print(\"Best score accuracy: {:.2f}\".format(dt_search.best_score_))\n",
        "print(\"Best parameters: {}\".format(dt_search.best_params_))"
      ],
      "metadata": {
        "colab": {
          "base_uri": "https://localhost:8080/"
        },
        "id": "t2uPxTlb3EBg",
        "outputId": "0abdc8b9-739b-4924-a5e9-82dbd27472dd"
      },
      "execution_count": null,
      "outputs": [
        {
          "output_type": "stream",
          "name": "stdout",
          "text": [
            "Best score accuracy: 0.78\n",
            "Best parameters: {'criterion': 'gini', 'max_depth': 10, 'max_features': 'auto', 'min_samples_leaf': 1, 'min_samples_split': 100}\n"
          ]
        }
      ]
    },
    {
      "cell_type": "code",
      "source": [
        "dt_best= dt_search.best_estimator_\n",
        "dt_best"
      ],
      "metadata": {
        "colab": {
          "base_uri": "https://localhost:8080/"
        },
        "id": "CwNGwVZF3Tnx",
        "outputId": "a46b6337-9612-4720-c471-fe232dffa4e2"
      },
      "execution_count": null,
      "outputs": [
        {
          "output_type": "execute_result",
          "data": {
            "text/plain": [
              "DecisionTreeClassifier(max_depth=10, max_features='auto', min_samples_split=100,\n",
              "                       random_state=42)"
            ]
          },
          "metadata": {},
          "execution_count": 59
        }
      ]
    },
    {
      "cell_type": "markdown",
      "source": [
        "###Random Forest"
      ],
      "metadata": {
        "id": "iBnueLjr3acT"
      }
    },
    {
      "cell_type": "code",
      "source": [
        "params = {\n",
        "    'criterion':['gini','entropy'],\n",
        "    'max_depth': [5, 15, 25],\n",
        "    'min_samples_split': [2, 45],\n",
        "    'min_samples_leaf' : [5, 25],\n",
        "    'n_estimators': [50, 100, 200]\n",
        "}\n",
        "\n",
        "\n",
        "\n",
        "model_rf = RandomForestClassifier(random_state = 42)\n",
        "rf_search = GridSearchCV(model_rf, params, cv = 5, scoring = 'roc_auc', return_train_score=True)\n",
        "%time rf_search.fit(X_train, y_train)"
      ],
      "metadata": {
        "colab": {
          "base_uri": "https://localhost:8080/"
        },
        "id": "m6OYnKKh3fnT",
        "outputId": "7a20e17d-8f4f-4c0f-b32e-b76c45201eaf"
      },
      "execution_count": null,
      "outputs": [
        {
          "output_type": "stream",
          "name": "stdout",
          "text": [
            "CPU times: user 10min 29s, sys: 2.38 s, total: 10min 32s\n",
            "Wall time: 10min 32s\n"
          ]
        },
        {
          "output_type": "execute_result",
          "data": {
            "text/plain": [
              "GridSearchCV(cv=5, estimator=RandomForestClassifier(random_state=42),\n",
              "             param_grid={'criterion': ['gini', 'entropy'],\n",
              "                         'max_depth': [5, 15, 25], 'min_samples_leaf': [5, 25],\n",
              "                         'min_samples_split': [2, 45],\n",
              "                         'n_estimators': [50, 100, 200]},\n",
              "             return_train_score=True, scoring='roc_auc')"
            ]
          },
          "metadata": {},
          "execution_count": 34
        }
      ]
    },
    {
      "cell_type": "code",
      "source": [
        "print(\"Best score accuracy: {:.2f}\".format(rf_search.best_score_))\n",
        "print(\"Best parameters: {}\".format(rf_search.best_params_))"
      ],
      "metadata": {
        "colab": {
          "base_uri": "https://localhost:8080/"
        },
        "id": "H1M6ob5y31q1",
        "outputId": "fd75ad94-923d-4298-9502-842a16ae84cf"
      },
      "execution_count": null,
      "outputs": [
        {
          "output_type": "stream",
          "name": "stdout",
          "text": [
            "Best score accuracy: 0.80\n",
            "Best parameters: {'criterion': 'entropy', 'max_depth': 15, 'min_samples_leaf': 5, 'min_samples_split': 45, 'n_estimators': 200}\n"
          ]
        }
      ]
    },
    {
      "cell_type": "code",
      "source": [
        "rf_best= rf_search.best_estimator_\n",
        "rf_best"
      ],
      "metadata": {
        "colab": {
          "base_uri": "https://localhost:8080/"
        },
        "id": "oUaSiwrI30Ta",
        "outputId": "70104e57-9623-4640-8d26-7b67d0e6fa60"
      },
      "execution_count": null,
      "outputs": [
        {
          "output_type": "execute_result",
          "data": {
            "text/plain": [
              "RandomForestClassifier(criterion='entropy', max_depth=15, min_samples_leaf=5,\n",
              "                       min_samples_split=45, n_estimators=200, random_state=42)"
            ]
          },
          "metadata": {},
          "execution_count": 36
        }
      ]
    },
    {
      "cell_type": "markdown",
      "source": [
        "###KNN"
      ],
      "metadata": {
        "id": "JbP92z9V5G6h"
      }
    },
    {
      "cell_type": "code",
      "source": [
        "params = {\n",
        "    'n_neighbors': [5, 10],\n",
        "    'metric': ['euclidean','minkowski']\n",
        "}\n",
        "\n",
        "\n",
        "\n",
        "model_knn = KNeighborsClassifier()\n",
        "knn_search = GridSearchCV(model_knn, params, cv = 5, scoring = 'roc_auc', return_train_score=True)\n",
        "%time knn_search.fit(X_train, y_train)"
      ],
      "metadata": {
        "colab": {
          "base_uri": "https://localhost:8080/"
        },
        "id": "IG9L-Lt05IV5",
        "outputId": "ab5d1cd3-1085-425c-a811-8a20b0830e9a"
      },
      "execution_count": null,
      "outputs": [
        {
          "output_type": "stream",
          "name": "stdout",
          "text": [
            "CPU times: user 2min 52s, sys: 13.5 s, total: 3min 5s\n",
            "Wall time: 2min 30s\n"
          ]
        },
        {
          "output_type": "execute_result",
          "data": {
            "text/plain": [
              "GridSearchCV(cv=5, estimator=KNeighborsClassifier(),\n",
              "             param_grid={'metric': ['euclidean', 'minkowski'],\n",
              "                         'n_neighbors': [5, 10]},\n",
              "             return_train_score=True, scoring='roc_auc')"
            ]
          },
          "metadata": {},
          "execution_count": 60
        }
      ]
    },
    {
      "cell_type": "code",
      "source": [
        "print(\"Best score accuracy: {:.2f}\".format(knn_search.best_score_))\n",
        "print(\"Best parameters: {}\".format(knn_search.best_params_))"
      ],
      "metadata": {
        "colab": {
          "base_uri": "https://localhost:8080/"
        },
        "id": "MlAXT3Eg6Yvg",
        "outputId": "a0a32c63-6358-4ed6-f908-b7f154f80169"
      },
      "execution_count": null,
      "outputs": [
        {
          "output_type": "stream",
          "name": "stdout",
          "text": [
            "Best score accuracy: 0.72\n",
            "Best parameters: {'metric': 'euclidean', 'n_neighbors': 10}\n"
          ]
        }
      ]
    },
    {
      "cell_type": "code",
      "source": [
        "knn_best= knn_search.best_estimator_\n",
        "knn_best"
      ],
      "metadata": {
        "colab": {
          "base_uri": "https://localhost:8080/"
        },
        "id": "BqdYt26k6Yfv",
        "outputId": "41df3b08-5ea2-4287-b001-746118ff0ee0"
      },
      "execution_count": null,
      "outputs": [
        {
          "output_type": "execute_result",
          "data": {
            "text/plain": [
              "KNeighborsClassifier(metric='euclidean', n_neighbors=10)"
            ]
          },
          "metadata": {},
          "execution_count": 62
        }
      ]
    },
    {
      "cell_type": "markdown",
      "source": [
        "###Naive Bayes"
      ],
      "metadata": {
        "id": "DwWQF2U_6gfp"
      }
    },
    {
      "cell_type": "code",
      "source": [
        "from pandas.core.common import random_state\n",
        "params = {\n",
        "    'var_smoothing': [1e-9, 1e-5,1,5]\n",
        "}\n",
        "\n",
        "\n",
        "\n",
        "model_nb = GaussianNB()\n",
        "nb_search = GridSearchCV(model_nb, params, cv = 5, scoring = 'roc_auc', return_train_score=True)\n",
        "%time nb_search.fit(X_train, y_train)"
      ],
      "metadata": {
        "colab": {
          "base_uri": "https://localhost:8080/"
        },
        "id": "RjAWF58m6gDe",
        "outputId": "84671545-4cc9-49f4-e4d2-9aa1f21d4218"
      },
      "execution_count": null,
      "outputs": [
        {
          "output_type": "stream",
          "name": "stdout",
          "text": [
            "CPU times: user 1.09 s, sys: 1.69 s, total: 2.77 s\n",
            "Wall time: 2.79 s\n"
          ]
        },
        {
          "output_type": "execute_result",
          "data": {
            "text/plain": [
              "GridSearchCV(cv=5, estimator=GaussianNB(),\n",
              "             param_grid={'var_smoothing': [1e-09, 1e-05, 1, 5]},\n",
              "             return_train_score=True, scoring='roc_auc')"
            ]
          },
          "metadata": {},
          "execution_count": 63
        }
      ]
    },
    {
      "cell_type": "code",
      "source": [
        "print(\"Best score accuracy: {:.2f}\".format(nb_search.best_score_))\n",
        "print(\"Best parameters: {}\".format(nb_search.best_params_))"
      ],
      "metadata": {
        "colab": {
          "base_uri": "https://localhost:8080/"
        },
        "id": "x5LdJVHD9h2I",
        "outputId": "a646f417-6eb3-434b-c76a-1af7bfedd662"
      },
      "execution_count": null,
      "outputs": [
        {
          "output_type": "stream",
          "name": "stdout",
          "text": [
            "Best score accuracy: 0.77\n",
            "Best parameters: {'var_smoothing': 1}\n"
          ]
        }
      ]
    },
    {
      "cell_type": "code",
      "source": [
        "nb_best= nb_search.best_estimator_\n",
        "nb_best"
      ],
      "metadata": {
        "colab": {
          "base_uri": "https://localhost:8080/"
        },
        "id": "ar_km55h9xCf",
        "outputId": "b9bda333-1618-4063-a8c7-864acfb6770f"
      },
      "execution_count": null,
      "outputs": [
        {
          "output_type": "execute_result",
          "data": {
            "text/plain": [
              "GaussianNB(var_smoothing=1)"
            ]
          },
          "metadata": {},
          "execution_count": 65
        }
      ]
    },
    {
      "cell_type": "markdown",
      "source": [
        "###AdaBoost"
      ],
      "metadata": {
        "id": "DdHJxhya99QM"
      }
    },
    {
      "cell_type": "code",
      "source": [
        "params = {\n",
        "    'learning_rate': [0.1, 0.5, 1],\n",
        "    'n_estimators': [50, 100],\n",
        "    'algorithm':['SAMME', 'SAMME.R']\n",
        "}\n",
        "\n",
        "\n",
        "model_ab = AdaBoostClassifier(DecisionTreeClassifier(max_depth = 10), random_state = 42)\n",
        "ab_search = GridSearchCV(model_ab, params, cv = 5, scoring = 'roc_auc', return_train_score=True)\n",
        "%time ab_search.fit(X_train, y_train)"
      ],
      "metadata": {
        "colab": {
          "base_uri": "https://localhost:8080/"
        },
        "id": "Xoa7QCGh98m-",
        "outputId": "660bc086-30b5-4985-a44c-92f611e502f1"
      },
      "execution_count": null,
      "outputs": [
        {
          "output_type": "stream",
          "name": "stdout",
          "text": [
            "CPU times: user 7min 46s, sys: 1.75 s, total: 7min 48s\n",
            "Wall time: 7min 49s\n"
          ]
        },
        {
          "output_type": "execute_result",
          "data": {
            "text/plain": [
              "GridSearchCV(cv=5,\n",
              "             estimator=AdaBoostClassifier(base_estimator=DecisionTreeClassifier(max_depth=10),\n",
              "                                          random_state=42),\n",
              "             param_grid={'algorithm': ['SAMME', 'SAMME.R'],\n",
              "                         'learning_rate': [0.1, 0.5, 1],\n",
              "                         'n_estimators': [50, 100]},\n",
              "             return_train_score=True, scoring='roc_auc')"
            ]
          },
          "metadata": {},
          "execution_count": 74
        }
      ]
    },
    {
      "cell_type": "code",
      "source": [
        "print(\"Best score accuracy: {:.2f}\".format(ab_search.best_score_))\n",
        "print(\"Best parameters: {}\".format(ab_search.best_params_))"
      ],
      "metadata": {
        "colab": {
          "base_uri": "https://localhost:8080/"
        },
        "id": "tOu91ZlGBCE5",
        "outputId": "ce43db60-0aa6-4540-d24f-364ed381418d"
      },
      "execution_count": null,
      "outputs": [
        {
          "output_type": "stream",
          "name": "stdout",
          "text": [
            "Best score accuracy: 0.78\n",
            "Best parameters: {'algorithm': 'SAMME', 'learning_rate': 0.1, 'n_estimators': 50}\n"
          ]
        }
      ]
    },
    {
      "cell_type": "code",
      "source": [
        "ab_best= ab_search.best_estimator_\n",
        "ab_best"
      ],
      "metadata": {
        "colab": {
          "base_uri": "https://localhost:8080/"
        },
        "id": "Ts8Y9qd8BEnD",
        "outputId": "fe6dd14c-2a20-4659-e3ca-ab9c318b8378"
      },
      "execution_count": null,
      "outputs": [
        {
          "output_type": "execute_result",
          "data": {
            "text/plain": [
              "AdaBoostClassifier(algorithm='SAMME',\n",
              "                   base_estimator=DecisionTreeClassifier(max_depth=10),\n",
              "                   learning_rate=0.1, random_state=42)"
            ]
          },
          "metadata": {},
          "execution_count": 76
        }
      ]
    },
    {
      "cell_type": "markdown",
      "source": [
        "##CrossValidation"
      ],
      "metadata": {
        "id": "7iaBuNQHBzgU"
      }
    },
    {
      "cell_type": "code",
      "source": [
        "model_names = ['Logistic Regression', 'SVM', 'Decision Tree', 'Random Forest', 'K-Nearest Neighbors', 'Naive Bayes','AdaBoost']"
      ],
      "metadata": {
        "id": "VPzhjnXkDA7i"
      },
      "execution_count": null,
      "outputs": []
    },
    {
      "cell_type": "code",
      "source": [
        "model_best=[lr_best,svm_best,dt_best,rf_best,knn_best,nb_best,ab_best]"
      ],
      "metadata": {
        "id": "yujzP2txCIvK"
      },
      "execution_count": null,
      "outputs": []
    },
    {
      "cell_type": "code",
      "source": [
        "i = 0\n",
        "for model in model_best:\n",
        "    auc_score = cross_val_score(model, X_train, y_train, scoring = 'roc_auc', cv = 5)\n",
        "    print(f'Cross Validation score {model_names[i]}:', '%.2f' % np.mean(auc_score))\n",
        "    i += 1"
      ],
      "metadata": {
        "colab": {
          "base_uri": "https://localhost:8080/"
        },
        "id": "HPN3ufuvCGcl",
        "outputId": "8dc0771c-8f02-4ce7-dbbc-3d56e2da7fe6"
      },
      "execution_count": null,
      "outputs": [
        {
          "output_type": "stream",
          "name": "stdout",
          "text": [
            "Cross Validation score Logistic Regression: 0.79\n",
            "Cross Validation score SVM: 0.71\n",
            "Cross Validation score Decision Tree: 0.78\n",
            "Cross Validation score Random Forest: 0.80\n",
            "Cross Validation score K-Nearest Neighbors: 0.72\n",
            "Cross Validation score Naive Bayes: 0.77\n",
            "Cross Validation score AdaBoost: 0.78\n"
          ]
        }
      ]
    },
    {
      "cell_type": "markdown",
      "source": [
        "#VIII. Evaluasi Model"
      ],
      "metadata": {
        "id": "yvolFfZMJw23"
      }
    },
    {
      "cell_type": "code",
      "source": [
        "# Model Evaluasi menggunakan data val\n",
        "\n",
        "print('1. Logistic Regression:')\n",
        "%time predict_lr = lr_best.predict(X_val)\n",
        "print(classification_report(y_val, predict_lr))\n",
        "print('--------------------------------------------------\\n')\n",
        "\n",
        "print('2. SVM:')\n",
        "%time predict_svm = svm_best.predict(X_val)\n",
        "print(classification_report(y_val, predict_svm))\n",
        "print('--------------------------------------------------\\n')\n",
        "\n",
        "print('3. Decision Tree:')\n",
        "%time predict_dt = dt_best.predict(X_val)\n",
        "print(classification_report(y_val, predict_dt))\n",
        "print('--------------------------------------------------\\n')\n",
        "\n",
        "print('4. Random Forest:')\n",
        "%time predict_rf = rf_best.predict(X_val)\n",
        "print(classification_report(y_val, predict_rf))\n",
        "print('--------------------------------------------------\\n')\n",
        "\n",
        "print('5. KNN:')\n",
        "%time predict_knn = knn_best.predict(X_val)\n",
        "print(classification_report(y_val, predict_knn))\n",
        "print('--------------------------------------------------\\n')\n",
        "\n",
        "print('6. Naive Bayes:')\n",
        "%time predict_nb = nb_best.predict(X_val)\n",
        "print(classification_report(y_val, predict_nb))\n",
        "print('--------------------------------------------------\\n')\n",
        "\n",
        "print('7. AdaBoost:')\n",
        "%time predict_ab = ab_best.predict(X_val)\n",
        "print(classification_report(y_val, predict_ab))\n",
        "print('--------------------------------------------------\\n')"
      ],
      "metadata": {
        "colab": {
          "base_uri": "https://localhost:8080/"
        },
        "id": "zJCIv0Z0JqqU",
        "outputId": "68b493f3-39f5-4d99-f6ba-e66b90cb60a2"
      },
      "execution_count": null,
      "outputs": [
        {
          "output_type": "stream",
          "name": "stdout",
          "text": [
            "1. Logistic Regression:\n",
            "CPU times: user 2.35 ms, sys: 0 ns, total: 2.35 ms\n",
            "Wall time: 1.73 ms\n",
            "              precision    recall  f1-score   support\n",
            "\n",
            "           0       0.90      0.98      0.94      7929\n",
            "           1       0.64      0.20      0.31      1061\n",
            "\n",
            "    accuracy                           0.89      8990\n",
            "   macro avg       0.77      0.59      0.63      8990\n",
            "weighted avg       0.87      0.89      0.87      8990\n",
            "\n",
            "--------------------------------------------------\n",
            "\n",
            "2. SVM:\n",
            "CPU times: user 7.86 s, sys: 30.9 ms, total: 7.89 s\n",
            "Wall time: 8.76 s\n",
            "              precision    recall  f1-score   support\n",
            "\n",
            "           0       0.90      0.99      0.94      7929\n",
            "           1       0.62      0.18      0.28      1061\n",
            "\n",
            "    accuracy                           0.89      8990\n",
            "   macro avg       0.76      0.58      0.61      8990\n",
            "weighted avg       0.87      0.89      0.86      8990\n",
            "\n",
            "--------------------------------------------------\n",
            "\n",
            "3. Decision Tree:\n",
            "CPU times: user 1.96 ms, sys: 1.98 ms, total: 3.94 ms\n",
            "Wall time: 3.95 ms\n",
            "              precision    recall  f1-score   support\n",
            "\n",
            "           0       0.90      0.98      0.94      7929\n",
            "           1       0.59      0.19      0.29      1061\n",
            "\n",
            "    accuracy                           0.89      8990\n",
            "   macro avg       0.75      0.59      0.61      8990\n",
            "weighted avg       0.86      0.89      0.86      8990\n",
            "\n",
            "--------------------------------------------------\n",
            "\n",
            "4. Random Forest:\n",
            "CPU times: user 294 ms, sys: 10 µs, total: 294 ms\n",
            "Wall time: 294 ms\n",
            "              precision    recall  f1-score   support\n",
            "\n",
            "           0       0.90      0.98      0.94      7929\n",
            "           1       0.63      0.22      0.32      1061\n",
            "\n",
            "    accuracy                           0.89      8990\n",
            "   macro avg       0.77      0.60      0.63      8990\n",
            "weighted avg       0.87      0.89      0.87      8990\n",
            "\n",
            "--------------------------------------------------\n",
            "\n",
            "5. KNN:\n",
            "CPU times: user 4.86 s, sys: 274 ms, total: 5.13 s\n",
            "Wall time: 4.19 s\n",
            "              precision    recall  f1-score   support\n",
            "\n",
            "           0       0.90      0.99      0.94      7929\n",
            "           1       0.58      0.15      0.23      1061\n",
            "\n",
            "    accuracy                           0.89      8990\n",
            "   macro avg       0.74      0.57      0.59      8990\n",
            "weighted avg       0.86      0.89      0.86      8990\n",
            "\n",
            "--------------------------------------------------\n",
            "\n",
            "6. Naive Bayes:\n",
            "CPU times: user 7.27 ms, sys: 992 µs, total: 8.26 ms\n",
            "Wall time: 8.27 ms\n",
            "              precision    recall  f1-score   support\n",
            "\n",
            "           0       0.90      0.98      0.94      7929\n",
            "           1       0.59      0.21      0.32      1061\n",
            "\n",
            "    accuracy                           0.89      8990\n",
            "   macro avg       0.75      0.60      0.63      8990\n",
            "weighted avg       0.87      0.89      0.87      8990\n",
            "\n",
            "--------------------------------------------------\n",
            "\n",
            "7. AdaBoost:\n",
            "CPU times: user 18.3 s, sys: 44.5 ms, total: 18.3 s\n",
            "Wall time: 22 s\n",
            "              precision    recall  f1-score   support\n",
            "\n",
            "           0       0.91      0.97      0.94      7929\n",
            "           1       0.51      0.26      0.34      1061\n",
            "\n",
            "    accuracy                           0.88      8990\n",
            "   macro avg       0.71      0.61      0.64      8990\n",
            "weighted avg       0.86      0.88      0.87      8990\n",
            "\n",
            "--------------------------------------------------\n",
            "\n"
          ]
        }
      ]
    },
    {
      "cell_type": "markdown",
      "source": [
        "#IX. Model Inference"
      ],
      "metadata": {
        "id": "HH0um0PlPuAl"
      }
    },
    {
      "cell_type": "code",
      "source": [
        "#  Model Inference menggunakan  data test\n",
        "\n",
        "print('1. Logistic Regression:')\n",
        "%time predict_lr = lr_best.predict(X_test)\n",
        "print(classification_report(y_test, predict_lr))\n",
        "print('--------------------------------------------------\\n')\n",
        "\n",
        "print('2. SVM:')\n",
        "%time predict_svm = svm_best.predict(X_test)\n",
        "print(classification_report(y_test, predict_svm))\n",
        "print('--------------------------------------------------\\n')\n",
        "\n",
        "\n",
        "print('3. Decision Tree:')\n",
        "%time predict_dt = dt_best.predict(X_test)\n",
        "print(classification_report(y_test, predict_dt))\n",
        "print('--------------------------------------------------\\n')\n",
        "\n",
        "print('4. Random Forest:')\n",
        "%time predict_rf = rf_best.predict(X_test)\n",
        "print(classification_report(y_test, predict_rf))\n",
        "print('--------------------------------------------------\\n')\n",
        "\n",
        "print('5. KNN:')\n",
        "%time predict_knn = knn_best.predict(X_test)\n",
        "print(classification_report(y_test, predict_knn))\n",
        "print('--------------------------------------------------\\n')\n",
        "\n",
        "print('6. Naive Bayes:')\n",
        "%time predict_nb = nb_best.predict(X_test)\n",
        "print(classification_report(y_test, predict_nb))\n",
        "print('--------------------------------------------------\\n')\n",
        "\n",
        "print('7. AdaBoost:')\n",
        "%time predict_ab = ab_best.predict(X_test)\n",
        "print(classification_report(y_test, predict_ab))\n",
        "print('--------------------------------------------------\\n')"
      ],
      "metadata": {
        "colab": {
          "base_uri": "https://localhost:8080/"
        },
        "id": "DHV859PQQrkw",
        "outputId": "38cc6c0c-8ca5-4414-ceb8-fff082e0967d"
      },
      "execution_count": null,
      "outputs": [
        {
          "output_type": "stream",
          "name": "stdout",
          "text": [
            "1. Logistic Regression:\n",
            "CPU times: user 2.79 ms, sys: 23 µs, total: 2.81 ms\n",
            "Wall time: 2.47 ms\n",
            "              precision    recall  f1-score   support\n",
            "\n",
            "           0       0.91      0.98      0.95      6624\n",
            "           1       0.67      0.25      0.36       867\n",
            "\n",
            "    accuracy                           0.90      7491\n",
            "   macro avg       0.79      0.62      0.65      7491\n",
            "weighted avg       0.88      0.90      0.88      7491\n",
            "\n",
            "--------------------------------------------------\n",
            "\n",
            "2. SVM:\n",
            "CPU times: user 7.23 s, sys: 45.7 ms, total: 7.28 s\n",
            "Wall time: 7.6 s\n",
            "              precision    recall  f1-score   support\n",
            "\n",
            "           0       0.91      0.99      0.94      6624\n",
            "           1       0.70      0.21      0.32       867\n",
            "\n",
            "    accuracy                           0.90      7491\n",
            "   macro avg       0.80      0.60      0.63      7491\n",
            "weighted avg       0.88      0.90      0.87      7491\n",
            "\n",
            "--------------------------------------------------\n",
            "\n",
            "3. Decision Tree:\n",
            "CPU times: user 2.68 ms, sys: 0 ns, total: 2.68 ms\n",
            "Wall time: 2.74 ms\n",
            "              precision    recall  f1-score   support\n",
            "\n",
            "           0       0.91      0.98      0.94      6624\n",
            "           1       0.64      0.23      0.34       867\n",
            "\n",
            "    accuracy                           0.90      7491\n",
            "   macro avg       0.78      0.61      0.64      7491\n",
            "weighted avg       0.88      0.90      0.87      7491\n",
            "\n",
            "--------------------------------------------------\n",
            "\n",
            "4. Random Forest:\n",
            "CPU times: user 311 ms, sys: 0 ns, total: 311 ms\n",
            "Wall time: 621 ms\n",
            "              precision    recall  f1-score   support\n",
            "\n",
            "           0       0.91      0.98      0.95      6624\n",
            "           1       0.69      0.27      0.39       867\n",
            "\n",
            "    accuracy                           0.90      7491\n",
            "   macro avg       0.80      0.63      0.67      7491\n",
            "weighted avg       0.89      0.90      0.88      7491\n",
            "\n",
            "--------------------------------------------------\n",
            "\n",
            "5. KNN:\n",
            "CPU times: user 4.05 s, sys: 266 ms, total: 4.32 s\n",
            "Wall time: 3.53 s\n",
            "              precision    recall  f1-score   support\n",
            "\n",
            "           0       0.90      0.99      0.94      6624\n",
            "           1       0.67      0.18      0.28       867\n",
            "\n",
            "    accuracy                           0.89      7491\n",
            "   macro avg       0.78      0.58      0.61      7491\n",
            "weighted avg       0.87      0.89      0.87      7491\n",
            "\n",
            "--------------------------------------------------\n",
            "\n",
            "6. Naive Bayes:\n",
            "CPU times: user 9.91 ms, sys: 9 µs, total: 9.91 ms\n",
            "Wall time: 8.2 ms\n",
            "              precision    recall  f1-score   support\n",
            "\n",
            "           0       0.91      0.98      0.94      6624\n",
            "           1       0.62      0.25      0.35       867\n",
            "\n",
            "    accuracy                           0.90      7491\n",
            "   macro avg       0.76      0.61      0.65      7491\n",
            "weighted avg       0.88      0.90      0.87      7491\n",
            "\n",
            "--------------------------------------------------\n",
            "\n",
            "7. AdaBoost:\n",
            "CPU times: user 12.7 s, sys: 27.8 ms, total: 12.7 s\n",
            "Wall time: 12.8 s\n",
            "              precision    recall  f1-score   support\n",
            "\n",
            "           0       0.91      0.97      0.94      6624\n",
            "           1       0.55      0.29      0.38       867\n",
            "\n",
            "    accuracy                           0.89      7491\n",
            "   macro avg       0.73      0.63      0.66      7491\n",
            "weighted avg       0.87      0.89      0.87      7491\n",
            "\n",
            "--------------------------------------------------\n",
            "\n"
          ]
        }
      ]
    },
    {
      "cell_type": "markdown",
      "source": [
        "#Kesimpulan"
      ],
      "metadata": {
        "id": "tyuN2cFtnr6F"
      }
    },
    {
      "cell_type": "markdown",
      "source": [
        "Precision and Recall:\n",
        "* Recall: Is the total number of \"Yes\" in the label column of the dataset. So how many \"Yes\" labels does our model detect.\n",
        "\n",
        "* Precision: Means how sure is the prediction of our model that the actual label is a \"Yes\"."
      ],
      "metadata": {
        "id": "seoaa9fBLbId"
      }
    },
    {
      "cell_type": "markdown",
      "source": [
        "## Pembagian Data :\n",
        "\n",
        "\n",
        "*   Data dibagi menjadi 3 bagian yaitu data train, data validation dan data test dengan ratio 0.2 untuk data test, dan 0.3 untuk data train dan validation\n",
        "*   Masing masing persentase nya adalah :\n",
        "\n",
        "Presentase untuk data training   : 56.00 %\n",
        "\n",
        "Presentase untuk data evaluation : 24.00 %\n",
        "\n",
        "Presentase untuk data test       : 20.00 %\n",
        "\n",
        "\n",
        "\n",
        "---\n",
        "\n",
        "\n",
        "## Pendefisian Model :\n",
        "\n",
        "\n",
        "1.   GridSearchCV\n",
        "        * Logistic Regression\n",
        "              Pada Model Logreg didapat kan model yang paling optimal adalah  parameters: {'C': 0.5, 'penalty': 'l1', 'solver': 'liblinear'} \n",
        "              dan  Best score accuracy: 0.79 dalam waktu cukup singkat yaitu 13.8 s\n",
        "        * SVM\n",
        "              Pada Model SVM didapat kan model yang paling optimal adalah Best parameters: {'C': 0.5} dengan kernel rbf \n",
        "              dan Best score accuracy: 0.71 dalam waktu 4min 24s\n",
        "        * Decision Tree\n",
        "              Pada Model Decision Tree didapat kan model yang paling optimal adalah Best parameters: {'criterion': 'gini', 'max_depth': 10, 'max_features': 'auto', 'min_samples_leaf': 1, 'min_samples_split': 100}\n",
        "              dan Best score accuracy: 0.78 dalam waktu 21 s\n",
        "        * Random Forest\n",
        "              Pada Model Random Forest didapat kan model yang paling optimal adalah Best parameters: {'criterion': 'entropy', 'max_depth': 15, 'min_samples_leaf': 5, 'min_samples_split': 45, 'n_estimators': 200} \n",
        "              dan Best score accuracy: 0.80 dalam waktu 10min 32s\n",
        "        * KNN\n",
        "              Pada Model KNN didapat kan model yang paling optimal adalah Best parameters: {'metric': 'euclidean', 'n_neighbors': 10} \n",
        "              dan Best score accuracy: 0.72 dalam waktu 2min 30s\n",
        "        * Naive Bayes\n",
        "              Pada Model Naive Bayes didapat kan model yang paling optimal adalah Best parameters: {'var_smoothing': 1}\n",
        "              dan Best score accuracy: 0.77 dalam waktu 2.79 s\n",
        "        * AdaBoost\n",
        "              Pada Model AdaBoost didapat kan model yang paling optimal adalah Best parameters: {'algorithm': 'SAMME', 'learning_rate': 0.1, 'n_estimators': 50}\n",
        "              dan Best score accuracy: 0.78 dalam waktu 7min 49s\n",
        "\n",
        "2.   CrossValidation\n",
        "      * Cross Validation score Logistic Regression: 0.79\n",
        "      * Cross Validation score SVM: 0.71\n",
        "      * Cross Validation score Decision Tree: 0.78\n",
        "      * Cross Validation score Random Forest: 0.80\n",
        "      * Cross Validation score K-Nearest Neighbors: 0.72\n",
        "      * Cross Validation score Naive Bayes: 0.77\n",
        "      * Cross Validation score AdaBoost: 0.78\n",
        "\n",
        "* Dari segi akurasi RandomForest memiliki akurasi training tertinggi yaitu 0.80 dan yang terendah adalah SVM yaitu 0.72\n",
        "* Dari segi waktu Naive Bayes memiliki waktu komputasi training tercepat yaitu 1.11s sedangkan Random Forest memiliki waktu komputasi training terlama yaitu 9min 28s\n",
        "* Hasil Akurasi setaip algoritma pada GridsearchCV dan CrossValidation adalah sama\n",
        "\n",
        "\n",
        "---\n",
        "## Evaluasi Model\n",
        "Menggunakan data Validation maka didapat hasil sebagai berikut:\n",
        "* Dari segi akurasi setiap algoritma memiliki akurasi yang sama yaitu 0.89\n",
        "* Dari segi presisi algoritma Logistic Regression memiliki precision terhadap target 1(yes) terbaik yaitu  0.64  di ikuti RandomForest sebesar  0.63 dan SVM 0.62\n",
        "* Dari segi Recall dan F1 score masing masing algoritma meendapat nilai yang rendah terhadap target 1(yes)  untuk recall 0.15 - 0.26 dan untuk f1 score 0.23 - 0.36 \n",
        "\n",
        "\n",
        "---\n",
        "##Model Inference\n",
        "Menggunakan data test maka didapat hasil sebagai berikut:\n",
        "\n",
        "* Dari segi akurasi setiap algoritma memiliki akurasi yang sama yaitu 0.90, kecuali algoritma KNN yaitu 0.89\n",
        "* Dari segi presisi algoritma SVM memiliki precision terhadap target 1(yes) terbaik yaitu 0.70 di ikuti RandomForest sebesar 0.69 dan Logistic Regression 0.67\n",
        "* Dari segi Recall dan F1 score masing masing algoritma meendapat nilai yang rendah terhadap target 1(yes) untuk recall 0.18 - 0.29 dan untuk f1 score 0.28 - 0.40\n",
        "---\n",
        "Berdasarkan Hasil dari Evaluasi Model dan Model Inference didapatkan bahwa model SVM dan Random Forest adalah model terbaik yang bisa digunakan untuk prediksi Term Deposit dikarenakan precisi score dan accuracy score yang didapat cukup tinggi\n",
        "\n"
      ],
      "metadata": {
        "id": "8VDPVA28n352"
      }
    }
  ]
}